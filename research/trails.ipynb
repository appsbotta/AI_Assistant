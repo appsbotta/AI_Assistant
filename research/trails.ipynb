{
 "cells": [
  {
   "cell_type": "code",
   "execution_count": null,
   "metadata": {},
   "outputs": [],
   "source": [
    "import os"
   ]
  },
  {
   "cell_type": "code",
   "execution_count": null,
   "metadata": {},
   "outputs": [],
   "source": [
    "%pwd"
   ]
  },
  {
   "cell_type": "code",
   "execution_count": null,
   "metadata": {},
   "outputs": [],
   "source": [
    "os.chdir('../')"
   ]
  },
  {
   "cell_type": "code",
   "execution_count": null,
   "metadata": {},
   "outputs": [],
   "source": [
    "%pwd"
   ]
  },
  {
   "cell_type": "markdown",
   "metadata": {},
   "source": [
    "# Data Ingestion"
   ]
  },
  {
   "cell_type": "code",
   "execution_count": 106,
   "metadata": {},
   "outputs": [],
   "source": [
    "from dataclasses import dataclass\n",
    "from pathlib import Path\n",
    "\n",
    "@dataclass(frozen=True)\n",
    "class DataIngestionConfig:\n",
    "    root_dir: Path\n",
    "    github_url: str\n",
    "    save_dir: Path"
   ]
  },
  {
   "cell_type": "code",
   "execution_count": 107,
   "metadata": {},
   "outputs": [],
   "source": [
    "from bot.constants import *\n",
    "from bot.utils.common import read_yaml,create_directories"
   ]
  },
  {
   "cell_type": "code",
   "execution_count": 108,
   "metadata": {},
   "outputs": [
    {
     "data": {
      "text/plain": [
       "pathlib._local.WindowsPath"
      ]
     },
     "execution_count": 108,
     "metadata": {},
     "output_type": "execute_result"
    }
   ],
   "source": [
    "type(CONFIG_PATH)"
   ]
  },
  {
   "cell_type": "code",
   "execution_count": 109,
   "metadata": {},
   "outputs": [],
   "source": [
    "class ConfigurationManager:\n",
    "    def __init__(\n",
    "            self,\n",
    "            config_path = CONFIG_PATH,\n",
    "            params_path = PARAMS_PATH\n",
    "        ):\n",
    "        self.config = read_yaml(config_path)\n",
    "        self.param = read_yaml(params_path)\n",
    "\n",
    "        create_directories([self.config.artifacts_root])\n",
    "    \n",
    "    def get_data_ingestion_config(self)->DataIngestionConfig:\n",
    "        config = self.config.data_ingestion\n",
    "\n",
    "        create_directories([config.root_dir])\n",
    "\n",
    "        data_ingestion_config = DataIngestionConfig(\n",
    "            root_dir=config.root_dir,\n",
    "            github_url=config.github_url,\n",
    "            save_dir=config.save_dir\n",
    "        )\n",
    "\n",
    "        return data_ingestion_config"
   ]
  },
  {
   "cell_type": "code",
   "execution_count": 110,
   "metadata": {},
   "outputs": [],
   "source": [
    "import os\n",
    "import requests\n",
    "from bot import logger\n",
    "from dotenv import load_dotenv\n",
    "load_dotenv()\n",
    "import json"
   ]
  },
  {
   "cell_type": "code",
   "execution_count": 111,
   "metadata": {},
   "outputs": [],
   "source": [
    "class DataIngestion:\n",
    "    def __init__(self,config:DataIngestionConfig):\n",
    "        self.config = config\n",
    "    \n",
    "    def get_repos(self):\n",
    "        logger.info(f\"Starting writing data from git hub repos\")\n",
    "        url = self.config.github_url\n",
    "        headers = {\"Authorization\": f\"token {os.getenv(\"TOKEN\")}\"}\n",
    "        repos = requests.get(url, headers=headers).json()\n",
    "        save_dir = self.config.save_dir\n",
    "        with open(os.path.join(save_dir,\"data.json\"),'w',encoding='utf-8') as f:\n",
    "            json.dump(repos,f,indent=4)\n",
    "        logger.info(f\"Completed writing data from git hub repos\")"
   ]
  },
  {
   "cell_type": "code",
   "execution_count": 112,
   "metadata": {},
   "outputs": [
    {
     "name": "stdout",
     "output_type": "stream",
     "text": [
      "[2025-03-10 23:22:08,838: INFO: common: yaml file: config\\config.yaml loaded successfully]\n",
      "[2025-03-10 23:22:08,842: INFO: common: yaml file: params.yaml loaded successfully]\n",
      "[2025-03-10 23:22:08,846: INFO: common: created directory at: artifacts]\n",
      "[2025-03-10 23:22:08,849: INFO: common: created directory at: artifacts/data_ingestion]\n",
      "[2025-03-10 23:22:08,851: INFO: 3120334065: Starting writing data from git hub repos]\n",
      "[2025-03-10 23:22:09,376: INFO: 3120334065: Completed writing data from git hub repos]\n"
     ]
    }
   ],
   "source": [
    "try:\n",
    "    config = ConfigurationManager()\n",
    "    data_ingestion_config = config.get_data_ingestion_config()\n",
    "    data_ingestion = DataIngestion(config=data_ingestion_config)\n",
    "    data_ingestion.get_repos()\n",
    "except Exception as e:\n",
    "    raise e"
   ]
  },
  {
   "cell_type": "markdown",
   "metadata": {},
   "source": [
    "# Data Transformation"
   ]
  },
  {
   "cell_type": "code",
   "execution_count": 35,
   "metadata": {},
   "outputs": [
    {
     "data": {
      "text/plain": [
       "'c:\\\\Users\\\\Appsb\\\\Desktop\\\\AI_Assistant'"
      ]
     },
     "execution_count": 35,
     "metadata": {},
     "output_type": "execute_result"
    }
   ],
   "source": [
    "%pwd"
   ]
  },
  {
   "cell_type": "code",
   "execution_count": null,
   "metadata": {},
   "outputs": [],
   "source": [
    "import os"
   ]
  },
  {
   "cell_type": "code",
   "execution_count": null,
   "metadata": {},
   "outputs": [],
   "source": [
    "os.chdir('../')"
   ]
  },
  {
   "cell_type": "code",
   "execution_count": null,
   "metadata": {},
   "outputs": [],
   "source": [
    "%pwd"
   ]
  },
  {
   "cell_type": "code",
   "execution_count": 36,
   "metadata": {},
   "outputs": [],
   "source": [
    "from dataclasses import dataclass\n",
    "from pathlib import Path\n",
    "\n",
    "@dataclass(frozen=True)\n",
    "class DataTrasformationConfig:\n",
    "    root_dir: Path\n",
    "    file_dir: Path\n",
    "    save_dir: Path"
   ]
  },
  {
   "cell_type": "code",
   "execution_count": 37,
   "metadata": {},
   "outputs": [],
   "source": [
    "from bot.constants import *\n",
    "from bot.utils.common import read_yaml,create_directories"
   ]
  },
  {
   "cell_type": "code",
   "execution_count": 38,
   "metadata": {},
   "outputs": [],
   "source": [
    "class ConfigurationManager:\n",
    "    def __init__(\n",
    "            self,\n",
    "            config_path = CONFIG_PATH,\n",
    "            params_path = PARAMS_PATH\n",
    "        ):\n",
    "        self.config = read_yaml(config_path)\n",
    "        self.params = read_yaml(params_path)\n",
    "\n",
    "        create_directories([self.config.artifacts_root])\n",
    "    \n",
    "    def get_data_transformation_config(self)->DataTrasformationConfig:\n",
    "        config = self.config.data_transformation\n",
    "\n",
    "        create_directories([config.root_dir])\n",
    "\n",
    "        data_trasformation_config = DataTrasformationConfig(\n",
    "            root_dir=config.root_dir,\n",
    "            file_dir=config.file_dir,\n",
    "            save_dir=config.save_dir,\n",
    "        )\n",
    "\n",
    "        return data_trasformation_config\n",
    "    \n",
    "    "
   ]
  },
  {
   "cell_type": "code",
   "execution_count": null,
   "metadata": {},
   "outputs": [],
   "source": [
    "import os\n",
    "from reportlab.lib.pagesizes import letter\n",
    "from reportlab.lib.styles import getSampleStyleSheet, ParagraphStyle\n",
    "from reportlab.platypus import SimpleDocTemplate, Paragraph, Spacer, Preformatted\n",
    "from bot import logger\n",
    "import json\n",
    "import markdown2\n",
    "import html2text\n",
    "import base64"
   ]
  },
  {
   "cell_type": "code",
   "execution_count": null,
   "metadata": {},
   "outputs": [],
   "source": [
    "class DataTransformation:\n",
    "    def __init__(self,config:DataTrasformationConfig):\n",
    "        self.config = config\n",
    "\n",
    "    def get_data(self):\n",
    "        file_dir = self.config.file_dir\n",
    "        with open(os.path.join(file_dir,'data.json'),'r',encoding='utf-8') as f:\n",
    "            data = json.load(f)\n",
    "        return data\n",
    "    \n",
    "    def get_lang(self,repo_name):\n",
    "        url = f'https://api.github.com/repos/appsbotta/{repo_name}/languages'\n",
    "        headers = {\"Authorization\": f\"token {os.getenv(\"TOKEN\")}\"}\n",
    "        lang = requests.get(url,headers=headers).json()\n",
    "        top_three_keys = sorted(lang, key=lang.get, reverse=True)[:3]\n",
    "        # logger.info(f\"Got top 3 languages used in {repo_name}\")\n",
    "        return top_three_keys\n",
    "    \n",
    "    def get_timings(self,repo):\n",
    "        update = repo['updated_at'][:10]\n",
    "        created = repo['created_at'][:10]\n",
    "        pushed = repo['pushed_at'][:10]\n",
    "        times = {\n",
    "            \"updated_at\": update,\n",
    "            \"created_at\":created,\n",
    "            \"pushed_at\": pushed,\n",
    "        }\n",
    "        # logger.info(f\"secured 3 timings {times.keys()}\")\n",
    "        return times\n",
    "    \n",
    "    def get_readme(self,OWNER,REPO):\n",
    "        # logger.info(f\"requeting readme file for the repo {REPO} \")\n",
    "        readme = f\"https://api.github.com/repos/{OWNER}/{REPO}/readme\"\n",
    "        headers = {\"Authorization\": f\"token {os.getenv(\"TOKEN\")}\"}\n",
    "        response = requests.get(readme,headers=headers)\n",
    "        readme_content = \"No Readme FIle\"\n",
    "        if response.status_code == 200:\n",
    "            data = response.json()\n",
    "            readme_content = base64.b64decode(data[\"content\"]).decode(\"utf-8\")\n",
    "            readme_content =  markdown2.markdown(readme_content, extras=[\"strip\"])\n",
    "            readme_content = html2text.html2text(readme_content)\n",
    "        # logger.info(f\"Request for README file for the repo {REPO} completed\")\n",
    "        return readme_content\n",
    "    \n",
    "    \n",
    "    def get_pdf_from_data(self):\n",
    "        logger.info(\"Saving data to a pdf file started\")\n",
    "        save_dir = self.config.save_dir\n",
    "        data = self.get_data()\n",
    "\n",
    "        doc = SimpleDocTemplate(os.path.join(save_dir,'repo.pdf'), pagesize=letter)\n",
    "        styles = getSampleStyleSheet()\n",
    "        custom_style = ParagraphStyle(\n",
    "            'Custom',\n",
    "            parent=styles['Normal'],\n",
    "            fontName='Courier',\n",
    "            fontSize=10,\n",
    "            leading=14,  # Line height\n",
    "            spaceAfter=5,\n",
    "        )\n",
    "        heading_style = ParagraphStyle(\n",
    "            \"HeadingStyle\",\n",
    "            parent=styles[\"Heading1\"],\n",
    "            fontName=\"Courier-Bold\",\n",
    "            fontSize=14,\n",
    "            leading=22,\n",
    "\n",
    "        )\n",
    "\n",
    "        content = []\n",
    "\n",
    "\n",
    "\n",
    "        for i,repo in enumerate(data):\n",
    "            text = f\"{i+1}. <b>{repo['name']}</b>  --->   {repo['html_url']} \\n\"\n",
    "            # text = text + str(i+1) + \". \" +  str(repo[\"name\"]) + \" -> \" + str(repo[\"html_url\"]) +\"\\n\"\n",
    "            paragraph = Paragraph(text,custom_style)\n",
    "            content.append(paragraph)\n",
    "        content.append(Spacer(1,5))\n",
    "        \n",
    "        for i,repo in enumerate(data):\n",
    "            OWNER = repo['owner']['login']\n",
    "            REPO = repo['name']\n",
    "            readme = self.get_readme(OWNER,REPO)\n",
    "            timings = self.get_timings(repo)\n",
    "            lang = self.get_lang(REPO)\n",
    "            heading = Paragraph(REPO,heading_style)\n",
    "            content.append(heading)\n",
    "            for key,value in timings.items():\n",
    "                text = f\"{key} -> {value}\"\n",
    "                paragraph = Paragraph(text,custom_style)\n",
    "                content.append(paragraph)\n",
    "            lang_text = \"   \"\n",
    "            for it in lang:\n",
    "                lang_text = lang_text + it +\", \"\n",
    "            text = Paragraph(lang_text,custom_style)\n",
    "            content.append(text)\n",
    "            readme = Preformatted(readme,custom_style)\n",
    "            content.append(readme)\n",
    "            content.append(Spacer(1, 5))\n",
    "\n",
    "\n",
    "        doc.build(content)\n",
    "        logger.info(\"saving data to a pdf file is completed\")\n",
    "    \n",
    "    \n",
    "        "
   ]
  },
  {
   "cell_type": "code",
   "execution_count": 105,
   "metadata": {},
   "outputs": [
    {
     "name": "stdout",
     "output_type": "stream",
     "text": [
      "[2025-03-10 23:14:05,366: INFO: common: yaml file: config\\config.yaml loaded successfully]\n",
      "[2025-03-10 23:14:05,372: INFO: common: yaml file: params.yaml loaded successfully]\n",
      "[2025-03-10 23:14:05,379: INFO: common: created directory at: artifacts]\n",
      "[2025-03-10 23:14:05,387: INFO: common: created directory at: artifacts/data_transformation]\n",
      "[2025-03-10 23:14:05,389: INFO: 3422072289: Saving data to a pdf file started]\n",
      "[2025-03-10 23:14:28,716: INFO: 3422072289: saving data to a pdf file is completed]\n"
     ]
    }
   ],
   "source": [
    "try:\n",
    "    config = ConfigurationManager()\n",
    "    data_transformation_config = config.get_data_transformation_config()\n",
    "    data_transformation = DataTransformation(config=data_transformation_config)\n",
    "    data_transformation.get_pdf_from_data()\n",
    "except Exception as e:\n",
    "    raise e"
   ]
  },
  {
   "cell_type": "code",
   "execution_count": 99,
   "metadata": {},
   "outputs": [
    {
     "name": "stdout",
     "output_type": "stream",
     "text": [
      "200\n"
     ]
    },
    {
     "data": {
      "text/plain": [
       "\"# DL-End _to_ End\\n\\n## Workflow\\n\\n  1. Update config.yaml in config dir\\n  2. Update secrets.yaml [optional]\\n  3. Update params.yaml\\n  4. Update the entity\\n  5. Update the configuration manager in src config\\n  6. Update the components\\n  7. Update the pipeline\\n  8. Update the main.py\\n  9. Update the dvc.yaml\\n\\n# To run the repo\\n\\n## steps\\n\\nClone the repository `bash https://github.com/appsbotta/DL-End_to_End `\\n\\n## step - 01 Create a conda env after opening the repo\\n\\n`bash conda create -n ckn python=3.13 -y ` `bash conda activate ckn `\\n\\n## step - 02 Install Requirements.txt\\n\\n`bash pip install -r requirements.txt `\\n\\n## step - 03 Run app.py\\n\\n`bash python app.py `\\n\\n## DVC cmd\\n\\n  * dvc init\\n  * dvc repro\\n  * dvc dag\\n\\n# AWS CI-CD Deployment using Github Actions\\n\\n## 1\\\\. Login to AWS Console\\n\\n## 2\\\\. Create IAM user for deployment\\n\\n```bash\\n\\n# give these access to IAM user\\n\\n  1. EC2 access -> this is virtual machine\\n  2. ECR: Elastic COntainer registery to save your docker image in aws\\n\\n# About deployment\\n\\n  1. build docker image of the source code\\n\\n  2. Push your docker image to ECR\\n\\n  3. Launch your EC2 instance\\n\\n  4. Pull your image from ECR to EC2\\n\\n  5. Launch your docker image in EC2\\n\\n# policy\\n\\n  1. AmazonEC2ContainerRegistryFullAccess\\n\\n  2. AmazonEC2FullAccess\\n\\n```\\n\\n## 3\\\\. Create ECR repo to store /dave docker image\\n\\n`bash copy the repo uri ex : 022499019910.dkr.ecr.us-\\neast-1.amazonaws.com/chicken `\\n\\n## 4\\\\. Create an EC2 machine Instance(Ubuntu)\\n\\n## 5\\\\. Connect EC2 instance and install docker\\n\\n```bash\\n\\n# optinal\\n\\nsudo apt-get update -y\\n\\nsudo apt-get upgrade\\n\\n# required\\n\\ncurl -fsSL https://get.docker.com -o get-docker.sh\\n\\nsudo sh get-docker.sh\\n\\nsudo usermod -aG docker ubuntu\\n\\nnewgrp docker ```\\n\\n## 6\\\\. create a self runner in github repo settings\\n\\n`bash in settings under action/runner create a new runner. a. while running\\nthe cmds in order when asked for runner group keep it default but for runner\\nname use self-hosted `\\n\\n## 7\\\\. Setup github secrets\\n\\n```bash AWS _ACCESS_ KEY_ID=\\n\\nAWS _SECRET_ ACCESS_KEY=\\n\\nAWS_REGION = us-east-1\\n\\nAWS _ECR_ LOGIN_URI = ''(for example it will be 022499019910.dkr.ecr.us-\\neast-1.amazonaws.com)\\n\\nECR _REPOSITORY_ NAME = '' (example chicken as last part of ECR uri)\\n\\n\""
      ]
     },
     "execution_count": 99,
     "metadata": {},
     "output_type": "execute_result"
    }
   ],
   "source": [
    "def get_readme(OWNER,REPO):\n",
    "        readme = f\"https://api.github.com/repos/{OWNER}/{REPO}/readme\"\n",
    "        headers = {\"Authorization\": f\"token {os.getenv(\"TOKEN\")}\"}\n",
    "        response = requests.get(readme,headers=headers)\n",
    "        readme_content = \"No Readme FIle\"\n",
    "        print(response.status_code)\n",
    "        if response.status_code == 200:\n",
    "            data = response.json()\n",
    "            readme_content = base64.b64decode(data[\"content\"]).decode(\"utf-8\")\n",
    "            readme_content =  markdown2.markdown(readme_content, extras=[\"strip\"])\n",
    "            readme_content = html2text.html2text(readme_content)\n",
    "        return readme_content\n",
    "\n",
    "content = get_readme('appsbotta','DL-End_to_End')\n",
    "content"
   ]
  },
  {
   "cell_type": "code",
   "execution_count": null,
   "metadata": {},
   "outputs": [],
   "source": [
    "        # with open(os.path.join(file_path,'repo.txt'), \"r\", encoding=\"utf-8\") as f:\n",
    "        #     lines = f.readlines()\n",
    "        #     for line in lines:\n",
    "        #         if line.strip() == \"<=================================================================================================>\":\n",
    "        #             paragraph = Preformatted(line.strip(), custom_style)\n",
    "        #         else:\n",
    "        #             paragraph = Paragraph(line.strip(), custom_style)     # Wrap text automatically\n",
    "        #         content.append(paragraph)\n",
    "        #         content.append(Spacer(1, 5))  # Preserve spacing\n",
    "\n",
    "import os\n",
    "import base64\n",
    "import requests\n",
    "import markdown2\n",
    "import html2text\n",
    "from bot import logger\n",
    "from dotenv import load_dotenv\n",
    "load_dotenv()\n",
    "from bot.entity.config_entity import DataIngestionConfig\n",
    "\n",
    "class DataIngestion:\n",
    "    def __init__(self,config:DataIngestionConfig):\n",
    "        self.config = config\n",
    "    \n",
    "    def get_lang(self,repo_name):\n",
    "        url = f'https://api.github.com/repos/appsbotta/{repo_name}/languages'\n",
    "        lang = requests.get(url).json()\n",
    "        top_three_keys = sorted(lang, key=lang.get, reverse=True)[:3]\n",
    "        return top_three_keys\n",
    "    \n",
    "    def get_timings(self,repo):\n",
    "        update = repo['updated_at'][:10]\n",
    "        created = repo['created_at'][:10]\n",
    "        pushed = repo['pushed_at'][:10]\n",
    "        return [update,created,pushed]\n",
    "    \n",
    "    def get_readme(self,OWNER,REPO):\n",
    "        readme = f\"https://api.github.com/repos/{OWNER}/{REPO}/readme\"\n",
    "        response = requests.get(readme)\n",
    "        readme_content = \"No Readme FIle\"\n",
    "        if response.status_code == 200:\n",
    "            data = response.json()\n",
    "            readme_content = base64.b64decode(data[\"content\"]).decode(\"utf-8\")\n",
    "            readme_content =  markdown2.markdown(readme_content, extras=[\"strip\"])\n",
    "            readme_content = html2text.html2text(readme_content)\n",
    "        return readme_content\n",
    "\n",
    "    def get_repos(self):\n",
    "        url = self.config.github_url\n",
    "        headers = {\"Authorization\": f\"token {os.getenv(\"TOKEN\")}\"}\n",
    "        repos = requests.get(url, headers=headers).json()\n",
    "        save_dir = self.config.save_dir\n",
    "        with open(os.path.join(save_dir,'repo.txt'),'w',encoding='utf-8') as f:\n",
    "            f.write(str(\"\\n\"))\n",
    "            for i,repo in enumerate(repos):\n",
    "                OWNER = repo['owner']['login']\n",
    "                REPO = repo['name']\n",
    "                timings = self.get_timings(REPO)\n",
    "                readme_content = self.get_readme(OWNER,REPO)\n",
    "                f.write( str(i+1) + \". \" +  str(repo[\"name\"])+\"\\n\")\n",
    "                f.write(\"Description \\n\")\n",
    "                f.write(readme_content)\n",
    "                f.write(str(\"\\n\"))\n",
    "                f.write(str(\"\\n\"))\n",
    "                f.write(\"<=================================================================================================>\")\n",
    "                f.write(str(\"\\n\"))\n",
    "                f.write(str(\"\\n\"))\n",
    "            logger.info(f\"Completed writing data from git hub repos\")"
   ]
  },
  {
   "cell_type": "markdown",
   "metadata": {},
   "source": [
    "# Bot"
   ]
  },
  {
   "cell_type": "code",
   "execution_count": 113,
   "metadata": {},
   "outputs": [
    {
     "data": {
      "text/plain": [
       "'c:\\\\Users\\\\Appsb\\\\Desktop\\\\AI_Assistant'"
      ]
     },
     "execution_count": 113,
     "metadata": {},
     "output_type": "execute_result"
    }
   ],
   "source": [
    "%pwd"
   ]
  },
  {
   "cell_type": "code",
   "execution_count": 2,
   "metadata": {},
   "outputs": [
    {
     "data": {
      "text/plain": [
       "'c:\\\\Users\\\\Appsb\\\\Desktop\\\\AI_Assistant'"
      ]
     },
     "execution_count": 2,
     "metadata": {},
     "output_type": "execute_result"
    }
   ],
   "source": [
    "import os\n",
    "os.chdir('../')\n",
    "%pwd"
   ]
  },
  {
   "cell_type": "code",
   "execution_count": 114,
   "metadata": {},
   "outputs": [
    {
     "data": {
      "text/plain": [
       "[Document(metadata={'producer': 'ReportLab PDF Library - www.reportlab.com', 'creator': '(unspecified)', 'creationdate': '2025-03-10T23:20:37+05:00', 'author': '(anonymous)', 'keywords': '', 'moddate': '2025-03-10T23:20:37+05:00', 'subject': '(unspecified)', 'title': '(anonymous)', 'trapped': '/False', 'source': 'artifacts/data_transformation/repo.pdf', 'total_pages': 22, 'page': 0, 'page_label': '1'}, page_content='1. AgenticAi ---> https://github.com/appsbotta/AgenticAi\\n2. AI_Assistant ---> https://github.com/appsbotta/AI_Assistant\\n3. AWS_BEDROCK ---> https://github.com/appsbotta/AWS_BEDROCK\\n4. DataSets ---> https://github.com/appsbotta/DataSets\\n5. DL-End_to_End ---> https://github.com/appsbotta/DL-End_to_End\\n6. FaceDetection_React ---> https://github.com/appsbotta/FaceDetection_React\\n7. FitnessTracker ---> https://github.com/appsbotta/FitnessTracker\\n8. Gemini ---> https://github.com/appsbotta/Gemini\\n9. ImageCaption ---> https://github.com/appsbotta/ImageCaption\\n10. JosaaDataAnalysis ---> https://github.com/appsbotta/JosaaDataAnalysis\\n11. Kidney_diease_end_to_end --->\\nhttps://github.com/appsbotta/Kidney_diease_end_to_end\\n12. LangChain ---> https://github.com/appsbotta/LangChain\\n13. Llamaindex ---> https://github.com/appsbotta/Llamaindex\\n14. Market_Basket ---> https://github.com/appsbotta/Market_Basket\\n15. Networks ---> https://github.com/appsbotta/Networks\\n16. OlX_CLONE ---> https://github.com/appsbotta/OlX_CLONE\\n17. Portifolio ---> https://github.com/appsbotta/Portifolio\\n18. Q-A_ChatBot_with_Implementation --->\\nhttps://github.com/appsbotta/Q-A_ChatBot_with_Implementation\\n19. Real-Time-chatting ---> https://github.com/appsbotta/Real-Time-chatting\\n20. SentimentAnalysis ---> https://github.com/appsbotta/SentimentAnalysis\\n21. SimpleDVC ---> https://github.com/appsbotta/SimpleDVC\\n22. StockPrediction ---> https://github.com/appsbotta/StockPrediction\\n23. student_performance --->\\nhttps://github.com/appsbotta/student_performance\\n24. Telecom_Churn_Prediction --->\\nhttps://github.com/appsbotta/Telecom_Churn_Prediction\\n25. Text-Summarizer ---> https://github.com/appsbotta/Text-Summarizer\\n26. Video_Web ---> https://github.com/appsbotta/Video_Web\\n1. AgenticAi\\nupdated_at -> 2025-03-10\\ncreated_at -> 2025-01-13\\npushed_at -> 2025-03-10'),\n",
       " Document(metadata={'producer': 'ReportLab PDF Library - www.reportlab.com', 'creator': '(unspecified)', 'creationdate': '2025-03-10T23:20:37+05:00', 'author': '(anonymous)', 'keywords': '', 'moddate': '2025-03-10T23:20:37+05:00', 'subject': '(unspecified)', 'title': '(anonymous)', 'trapped': '/False', 'source': 'artifacts/data_transformation/repo.pdf', 'total_pages': 22, 'page': 1, 'page_label': '2'}, page_content='Python,\\nNo Readme FIle\\n2. AI_Assistant\\nupdated_at -> 2025-03-10\\ncreated_at -> 2025-03-09\\npushed_at -> 2025-03-10\\nJupyter Notebook, Python,\\n# AI_Assistant\\n3. AWS_BEDROCK\\nupdated_at -> 2025-03-07\\ncreated_at -> 2025-03-06\\npushed_at -> 2025-03-07\\nPython,\\n# AWS_BEDROCK\\n# to run this\\n## 1\\\\. Git clone the repo\\n## 2\\\\. Install requirements.txt\\n## 3\\\\. Create an IAM user with Administrtor access\\n## 4\\\\. Configure AWS in cli\\n`bash aws configure `\\n4. DataSets\\nupdated_at -> 2025-03-03\\ncreated_at -> 2023-08-27\\npushed_at -> 2025-03-03\\nJupyter Notebook,\\nNo Readme FIle\\n5. DL-End_to_End'),\n",
       " Document(metadata={'producer': 'ReportLab PDF Library - www.reportlab.com', 'creator': '(unspecified)', 'creationdate': '2025-03-10T23:20:37+05:00', 'author': '(anonymous)', 'keywords': '', 'moddate': '2025-03-10T23:20:37+05:00', 'subject': '(unspecified)', 'title': '(anonymous)', 'trapped': '/False', 'source': 'artifacts/data_transformation/repo.pdf', 'total_pages': 22, 'page': 2, 'page_label': '3'}, page_content='updated_at -> 2025-03-05\\ncreated_at -> 2025-03-02\\npushed_at -> 2025-03-05\\nJupyter Notebook, Python, HTML,\\n# DL-End _to_ End\\n## Workflow\\n  1. Update config.yaml in config dir\\n  2. Update secrets.yaml [optional]\\n  3. Update params.yaml\\n  4. Update the entity\\n  5. Update the configuration manager in src config\\n  6. Update the components\\n  7. Update the pipeline\\n  8. Update the main.py\\n  9. Update the dvc.yaml\\n# To run the repo\\n## steps\\nClone the repository `bash https://github.com/appsbotta/DL-End_to_End `\\n## step - 01 Create a conda env after opening the repo\\n`bash conda create -n ckn python=3.13 -y ` `bash conda activate ckn `\\n## step - 02 Install Requirements.txt\\n`bash pip install -r requirements.txt `\\n## step - 03 Run app.py\\n`bash python app.py `\\n## DVC cmd\\n  * dvc init\\n  * dvc repro\\n  * dvc dag\\n# AWS CI-CD Deployment using Github Actions'),\n",
       " Document(metadata={'producer': 'ReportLab PDF Library - www.reportlab.com', 'creator': '(unspecified)', 'creationdate': '2025-03-10T23:20:37+05:00', 'author': '(anonymous)', 'keywords': '', 'moddate': '2025-03-10T23:20:37+05:00', 'subject': '(unspecified)', 'title': '(anonymous)', 'trapped': '/False', 'source': 'artifacts/data_transformation/repo.pdf', 'total_pages': 22, 'page': 3, 'page_label': '4'}, page_content='## 1\\\\. Login to AWS Console\\n## 2\\\\. Create IAM user for deployment\\n```bash\\n# give these access to IAM user\\n  1. EC2 access -> this is virtual machine\\n  2. ECR: Elastic COntainer registery to save your docker image in aws\\n# About deployment\\n  1. build docker image of the source code\\n  2. Push your docker image to ECR\\n  3. Launch your EC2 instance\\n  4. Pull your image from ECR to EC2\\n  5. Launch your docker image in EC2\\n# policy\\n  1. AmazonEC2ContainerRegistryFullAccess\\n  2. AmazonEC2FullAccess\\n```\\n## 3\\\\. Create ECR repo to store /dave docker image\\n`bash copy the repo uri ex : 022499019910.dkr.ecr.us-\\neast-1.amazonaws.com/chicken `\\n## 4\\\\. Create an EC2 machine Instance(Ubuntu)\\n## 5\\\\. Connect EC2 instance and install docker\\n```bash\\n# optinal\\nsudo apt-get update -y'),\n",
       " Document(metadata={'producer': 'ReportLab PDF Library - www.reportlab.com', 'creator': '(unspecified)', 'creationdate': '2025-03-10T23:20:37+05:00', 'author': '(anonymous)', 'keywords': '', 'moddate': '2025-03-10T23:20:37+05:00', 'subject': '(unspecified)', 'title': '(anonymous)', 'trapped': '/False', 'source': 'artifacts/data_transformation/repo.pdf', 'total_pages': 22, 'page': 4, 'page_label': '5'}, page_content=\"sudo apt-get upgrade\\n# required\\ncurl -fsSL https://get.docker.com -o get-docker.sh\\nsudo sh get-docker.sh\\nsudo usermod -aG docker ubuntu\\nnewgrp docker ```\\n## 6\\\\. create a self runner in github repo settings\\n`bash in settings under action/runner create a new runner. a. while running\\nthe cmds in order when asked for runner group keep it default but for runner\\nname use self-hosted `\\n## 7\\\\. Setup github secrets\\n```bash AWS _ACCESS_ KEY_ID=\\nAWS _SECRET_ ACCESS_KEY=\\nAWS_REGION = us-east-1\\nAWS _ECR_ LOGIN_URI = ''(for example it will be 022499019910.dkr.ecr.us-\\neast-1.amazonaws.com)\\nECR _REPOSITORY_ NAME = '' (example chicken as last part of ECR uri)\\n6. FaceDetection_React\\nupdated_at -> 2023-08-19\\ncreated_at -> 2023-08-19\\npushed_at -> 2023-08-19\\nJavaScript, HTML, CSS,\\n# facedetection\\n7. FitnessTracker\\nupdated_at -> 2023-08-27\\ncreated_at -> 2023-08-27\"),\n",
       " Document(metadata={'producer': 'ReportLab PDF Library - www.reportlab.com', 'creator': '(unspecified)', 'creationdate': '2025-03-10T23:20:37+05:00', 'author': '(anonymous)', 'keywords': '', 'moddate': '2025-03-10T23:20:37+05:00', 'subject': '(unspecified)', 'title': '(anonymous)', 'trapped': '/False', 'source': 'artifacts/data_transformation/repo.pdf', 'total_pages': 22, 'page': 5, 'page_label': '6'}, page_content='pushed_at -> 2023-08-27\\nJavaScript, HTML, CSS,\\n# Fitness Tracker\\n## Description\\nThis is a Fitness Tracker built using MERN stack. It facilitates one to add\\nusers and record their date and duration of performing particular fitness\\nactivity.Activity can also be deleted. This web application is built using\\nMongoDB,Express,Nodejs,React and Material UI. Images used in this application\\nare being taken from [Unsplash website](https://unsplash.com).\\n## Demo\\n■ [Link](https://serene-volhard-1843cb.netlify.app/)\\nBackend Heroku Link-https://fitness-tracker-mern.herokuapp.com/\\n[Users](https://fitness-tracker-mern.herokuapp.com/users)\\n[Exercises](https://fitness-tracker-mern.herokuapp.com/exercises)\\n## Screenshots\\nHomepage ![fitkit_home](https://user-\\nimages.githubusercontent.com/4997491/117522296-20021d80-afd0-11eb-8079-922a4d51925a.JPG)\\nCreate user ![fitkit_user](https://user-\\nimages.githubusercontent.com/4997491/117525054-3911cb00-afde-11eb-97b5-a468f17935de.JPG)\\nRecord Fitness Activity ![fitkit_exercise](https://user-\\nimages.githubusercontent.com/4997491/117525061-3d3de880-afde-11eb-9201-acdb5b804f40.JPG)\\nFitness Activity Dashboard ![fitkit_dashboard](https://user-\\nimages.githubusercontent.com/4997491/117525087-652d4c00-afde-11eb-92d4-0fda6f5c5d03.JPG)\\n404 Error page ![error](https://user-\\nimages.githubusercontent.com/4997491/117525227-dcfb7680-afde-11eb-9434-a8f93c5b76d7.JPG)\\n## Available Scripts\\nIn the project directory, you can run:\\n`npm start`'),\n",
       " Document(metadata={'producer': 'ReportLab PDF Library - www.reportlab.com', 'creator': '(unspecified)', 'creationdate': '2025-03-10T23:20:37+05:00', 'author': '(anonymous)', 'keywords': '', 'moddate': '2025-03-10T23:20:37+05:00', 'subject': '(unspecified)', 'title': '(anonymous)', 'trapped': '/False', 'source': 'artifacts/data_transformation/repo.pdf', 'total_pages': 22, 'page': 6, 'page_label': '7'}, page_content='Runs the app in the development mode.  \\nOpen <http://localhost:3000> to view it in the browser.\\n8. Gemini\\nupdated_at -> 2025-02-16\\ncreated_at -> 2025-01-16\\npushed_at -> 2025-02-16\\nPython,\\nNo Readme FIle\\n9. ImageCaption\\nupdated_at -> 2024-08-04\\ncreated_at -> 2023-06-20\\npushed_at -> 2024-08-04\\nPython, HTML,\\n# image-caption-generator\\n## Deployed Link\\n[Image Caption](https://image-caption-gen-deploy-1.streamlit.app/)\\n# Home page\\n![Screenshot \\\\(82\\\\)](https://github.com/Vidya132/image-caption-\\ngenerator/assets/95306028/33837fd6-2e5a-4329-9038-5034fecc4e11)\\n# Upon selecting caption predictor\\n![Screenshot \\\\(470\\\\)](https://github.com/Vidya132/image-caption-\\ngenerator/assets/95306028/20c43357-01e9-4c5d-94ad-6182d370a625)\\n# Sample Images\\n![Screenshot \\\\(28\\\\)](https://github.com/Vidya132/image-caption-\\ngenerator/assets/95306028/f6fe65e4-964e-48f0-98ef-703cdd872750) ![Screenshot\\n\\\\(27\\\\)](https://github.com/Vidya132/image-caption-\\ngenerator/assets/95306028/492b7abd-e277-4e06-b2d0-a8ffef509597)\\n10. JosaaDataAnalysis\\nupdated_at -> 2023-08-28'),\n",
       " Document(metadata={'producer': 'ReportLab PDF Library - www.reportlab.com', 'creator': '(unspecified)', 'creationdate': '2025-03-10T23:20:37+05:00', 'author': '(anonymous)', 'keywords': '', 'moddate': '2025-03-10T23:20:37+05:00', 'subject': '(unspecified)', 'title': '(anonymous)', 'trapped': '/False', 'source': 'artifacts/data_transformation/repo.pdf', 'total_pages': 22, 'page': 7, 'page_label': '8'}, page_content=\"created_at -> 2023-08-28\\npushed_at -> 2023-08-28\\nHTML, Python, CSS,\\n# JOSAA-data-analysis\\nThis project aims to create a portal that allows users to explore the seat\\nallotment statistics of JOSAA (Joint Seat Allocation Authority) from 2016 to\\n2022. The project involves web scraping data from the JOSAA website,\\nperforming data cleaning and analysis, and presenting the insights through\\nvisualizations on a website frontend. The website presents the findings\\nthrough interactive charts and tables, enabling users to gain valuable\\ninsights into the trends and patterns of seat allotments over the years.\\n## Tech Stack/Frameworks:\\n  * Frontend: HTML, CSS, JavaScript\\n  * Backend: Django\\n  * Database: SQLite\\n  * Data Scraping: Beautiful Soup\\n  * Data Cleaning: NumPy, Pandas\\n  * Data Visualization: Chart.js\\n## Command to run the project locally\\n  * python manage.py runserver\\n  * Then run the server locally on port 8000\\n## Home page\\nThe home page of the JOSAA Analysis portal provides a user-friendly interface\\nto explore and analyze the JOSAA seat allotment statistics. It offers several\\ninsightful sections to delve into the data and gain valuable information.\\nHere's a breakdown of each section: \\\\- View Institute wise cut-off \\\\- Analyze\\ninstitute wise cut-off trends \\\\- Roundwise cut-off Analysis\\n  * ![home](https://github.com/Vidya132/JOSAA-data-analysis/assets/95306028/1d752e47-ef2d-4b4c-bf66-77fc8817c09d)\\n## View Institute wise cut-off list page\\n  * Upon clicking this option, a list of all IITs is shown along with their NIRF ranking(2023), Location and their established year. So the users can select specific institutes and explore the corresponding cut-off data.\\n  * ![iit list](https://github.com/Vidya132/JOSAA-data-analysis/assets/95306028/f4f562e1-c93b-48a5-a114-4c321b296fe6)\\n    * ### For each IIT \\n      * By selecting a specific IIT, users can explore the trends and changes in the cut-off ranks throughout the various rounds of the seat allocation process over the years 2016 to 2022.\"),\n",
       " Document(metadata={'producer': 'ReportLab PDF Library - www.reportlab.com', 'creator': '(unspecified)', 'creationdate': '2025-03-10T23:20:37+05:00', 'author': '(anonymous)', 'keywords': '', 'moddate': '2025-03-10T23:20:37+05:00', 'subject': '(unspecified)', 'title': '(anonymous)', 'trapped': '/False', 'source': 'artifacts/data_transformation/repo.pdf', 'total_pages': 22, 'page': 8, 'page_label': '9'}, page_content='* It can further narrow down their search by choosing specific programs offered by the selected institutes along with seat type and gender.\\n      * This feature helps users understand the cut-off trends for different programs in their preferred institutes.\\n      * ![first graph](https://github.com/Vidya132/JOSAA-data-analysis/assets/95306028/5c411f78-ea17-4218-a0d6-9a8740ad78b5)\\n## Analyze institute wise cut-off trends\\n  * Institute trends highlight the trends of various programs offered by a particular institute over the years. This helps understand the popularity and perception of programs offered by the institute, and thus helps understand the demand for a particular program in the institute during the counselling process.\\n  * ![Screenshot \\\\(20\\\\)](https://github.com/Vidya132/JOSAA-data-analysis/assets/95306028/45d3feab-6bf4-4611-91fb-91580b6a90ce)\\n  * Upon sleecting the gender, branch and institute, user will get the cut-off analysis for each branch present at that IIT.\\n  * ![Screenshot \\\\(22\\\\)](https://github.com/Vidya132/JOSAA-data-analysis/assets/95306028/1db046fe-c44c-4627-8282-c8143bf0a88a)\\n## Roundwise cut-off Analysis\\n  * Round trends highlight the general trend of closing ranks throughout the rounds of the counselling process. This helps understand the likely range of changes to the closing ranks throught the counselling proces.\\n  * Users can get the round wise analysis at each IIT by selecting the gender,seat type and branch. \\n  * User can change the college name by clicking on \"Go to iit-list\" buttion.\\n  * ![Screenshot \\\\(25\\\\)](https://github.com/Vidya132/JOSAA-data-analysis/assets/95306028/3206dd19-d8fb-4e88-ace9-84a743db723e)\\n11. Kidney_diease_end_to_end\\nupdated_at -> 2025-03-05\\ncreated_at -> 2025-03-05\\npushed_at -> 2025-03-05\\nPython, Jupyter Notebook,\\n# Kidney _diease_ end _to_ end\\n## Workflow\\n  1. Update config.yaml in config dir\\n  2. Update secrets.yaml [optional]\\n  3. Update params.yaml\\n  4. Update the entity\\n  5. Update the configuration manager in src config\\n  6. Update the components\\n  7. Update the pipeline\\n  8. Update the main.py\\n  9. Update the dvc.yaml\\n# To run the repo\\n## steps'),\n",
       " Document(metadata={'producer': 'ReportLab PDF Library - www.reportlab.com', 'creator': '(unspecified)', 'creationdate': '2025-03-10T23:20:37+05:00', 'author': '(anonymous)', 'keywords': '', 'moddate': '2025-03-10T23:20:37+05:00', 'subject': '(unspecified)', 'title': '(anonymous)', 'trapped': '/False', 'source': 'artifacts/data_transformation/repo.pdf', 'total_pages': 22, 'page': 9, 'page_label': '10'}, page_content='Clone the repository `bash\\nhttps://github.com/appsbotta/Kidney_diease_end_to_end `\\n## step - 01 Create a conda env after opening the repo\\n`bash conda create -n ckn python=3.8 -y ` `bash conda activate ckn `\\n## step - 02 Install Requirements.txt\\n`bash pip install -r requirements.txt `\\n## step - 03 Run app.py\\n`bash python app.py `\\n## DVC cmd\\n  * dvc init\\n  * dvc repro\\n  * dvc dag\\n# AWS CI-CD Deployment using Github Actions\\n## 1\\\\. Login to AWS Console\\n## 2\\\\. Create IAM user for deployment\\n```bash\\n# give these access to IAM user\\n  1. EC2 access -> this is virtual machine\\n  2. ECR: Elastic COntainer registery to save your docker image in aws\\n# About deployment\\n  1. build docker image of the source code\\n  2. Push your docker image to ECR\\n  3. Launch your EC2 instance\\n  4. Pull your image from ECR to EC2\\n  5. Launch your docker image in EC2'),\n",
       " Document(metadata={'producer': 'ReportLab PDF Library - www.reportlab.com', 'creator': '(unspecified)', 'creationdate': '2025-03-10T23:20:37+05:00', 'author': '(anonymous)', 'keywords': '', 'moddate': '2025-03-10T23:20:37+05:00', 'subject': '(unspecified)', 'title': '(anonymous)', 'trapped': '/False', 'source': 'artifacts/data_transformation/repo.pdf', 'total_pages': 22, 'page': 10, 'page_label': '11'}, page_content='# policy\\n  1. AmazonEC2ContainerRegistryFullAccess\\n  2. AmazonEC2FullAccess\\n```\\n12. LangChain\\nupdated_at -> 2025-03-09\\ncreated_at -> 2025-01-13\\npushed_at -> 2025-03-09\\nJupyter Notebook, Python,\\n# LangChain Projects\\nThis repository showcases various applications and experiments utilizing the\\nLangChain framework, which is designed for building applications powered by\\nlarge language models (LLMs).\\n## Table of Contents\\n  * Projects\\n    * LLMAPP\\n    * PdfQuery\\n    * ChatMultipleDocs\\n    * TextSummarization\\n    * Celebrity.py\\n  * Installation\\n  * Usage\\n  * Contributing\\n  * License\\n## Projects\\n### LLMAPP\\nA project demonstrating the integration of LangChain with large language\\nmodels to build intelligent applications.\\n### PdfQuery\\nAn application that utilizes LangChain to extract and process information from\\nPDF documents.'),\n",
       " Document(metadata={'producer': 'ReportLab PDF Library - www.reportlab.com', 'creator': '(unspecified)', 'creationdate': '2025-03-10T23:20:37+05:00', 'author': '(anonymous)', 'keywords': '', 'moddate': '2025-03-10T23:20:37+05:00', 'subject': '(unspecified)', 'title': '(anonymous)', 'trapped': '/False', 'source': 'artifacts/data_transformation/repo.pdf', 'total_pages': 22, 'page': 11, 'page_label': '12'}, page_content='### ChatMultipleDocs\\nA chatbot implementation capable of interacting with multiple documents,\\npowered by LangChain.\\n### TextSummarization\\nA tool that leverages LangChain to provide text summarization capabilities.\\n### Celebrity.py\\nA script that explores web to get the data related to a Celebrity given his\\nname and any 5 major events happend around his DOB\\n## Installation\\n  1. **Clone the repository:**\\n```bash git clone https://github.com/appsbotta/LangChain.git cd LangChain\\n  2. **Create a virtual environment:**\\n```bash conda create -p myenv python conda activate path/to/myenv\\n  3. **Install the required dependencies:**\\n```bash pip install -r requirements.txt\\n  4. **Create a`.env` file in the root of the repository:**\\nAdd your API keys to the .env file ```bash touch .env\\n## Usage\\nEach project is contained within its respective directory. Navigate to the\\ndesired project folder and follow the instructions provided above\\n13. Llamaindex\\nupdated_at -> 2025-01-17\\ncreated_at -> 2025-01-17\\npushed_at -> 2025-01-17\\nJupyter Notebook,\\n# Llamaindex'),\n",
       " Document(metadata={'producer': 'ReportLab PDF Library - www.reportlab.com', 'creator': '(unspecified)', 'creationdate': '2025-03-10T23:20:37+05:00', 'author': '(anonymous)', 'keywords': '', 'moddate': '2025-03-10T23:20:37+05:00', 'subject': '(unspecified)', 'title': '(anonymous)', 'trapped': '/False', 'source': 'artifacts/data_transformation/repo.pdf', 'total_pages': 22, 'page': 12, 'page_label': '13'}, page_content='14. Market_Basket\\nupdated_at -> 2023-08-15\\ncreated_at -> 2023-08-15\\npushed_at -> 2023-08-15\\nJupyter Notebook,\\n# Market_Basket\\nThis notebook has been executed on kaggle. To view the notebook and run it,\\nhttps://www.kaggle.com/code/lokesh5489/market-basket To view the concerned\\ndataset, visit https://www.kaggle.com/code/lokesh5489/market-basket/data\\nUsed Aprior algorithm to find relation between two products\\n15. Networks\\nupdated_at -> 2024-05-25\\ncreated_at -> 2024-05-23\\npushed_at -> 2024-05-25\\nC++, HTML, C,\\n# # The Network Simulator, Version 3\\n## Changes that we made\\n### 1.lte-ue-mac.cc\\n  * added one pre-defined table for type-0 allocation at line 52\\n  * Added Pf in line 404\\n  * Added function to get rbg size at line 503\\n  * line 2482 for grant printing in random allocation\\n  * line 2532 code for PF allocation, CQI calculation,mcs from cqi\\n  * added function at line 2715\\n### 2.lte-sl-out-of-covrg-comm.cc\\n  * At line 268 added code to print from rrc\\n  * At line 412 added code to print from mac\\n16. OlX_CLONE\\nupdated_at -> 2023-08-26\\ncreated_at -> 2023-08-26'),\n",
       " Document(metadata={'producer': 'ReportLab PDF Library - www.reportlab.com', 'creator': '(unspecified)', 'creationdate': '2025-03-10T23:20:37+05:00', 'author': '(anonymous)', 'keywords': '', 'moddate': '2025-03-10T23:20:37+05:00', 'subject': '(unspecified)', 'title': '(anonymous)', 'trapped': '/False', 'source': 'artifacts/data_transformation/repo.pdf', 'total_pages': 22, 'page': 13, 'page_label': '14'}, page_content='pushed_at -> 2023-08-26\\nJavaScript, CSS, HTML,\\n# OLX _clone_ IITG\\n## About the website\\nUsers are directed to login page on opening the website. Users have to login\\nusing their Outlook Id. Later user will be directed to home page of the\\nwebsite where two buttons will be displayed. Here user can choose whether to\\nbuy or sell and based on that available categories will be diplayed. Profile\\nshows logged in users profile. Logout button logs out the user.\\n## Environment Setup Locally\\n  * Install React\\n  * Use npm install in both Backend and Client \\n  * ...\\n## Tech Stack Used\\n  * React\\n  * MongoDB\\n  * Express\\n  * Node\\n  * HTML\\n  * CSS\\n  * Javascript\\n## Key Features\\n  * User can login and logout using Outlook Id\\n  * Functionality to buy and sell\\n  * Seller Profile Containing all the products he want to sell and stats of every deal he made, like people who are interested with listed money\\n  * Search functionality for buyer and filter method to get his wanted product within the desired price range\\n  * Product details along with buyer details\\n  * Option to agree to listed deal or to reach out seller for some negotiation for a particular product\\n  * Marks product as sold if deal is made\\n## Login page\\n  * The web application is authenticated and user must sign in using Outlook Id. ![image](https://user-images.githubusercontent.com/95306028/177820740-33b49604-b1b1-4285-bc41-9b9a5bf5b1ce.png)\\n## Home page\\n  * After login the home page will be displayed, where user can choose to buy or sell items. ![image](https://user-images.githubusercontent.com/95306028/177821314-90828c2c-6ef6-4644-9729-df123930b31c.png)'),\n",
       " Document(metadata={'producer': 'ReportLab PDF Library - www.reportlab.com', 'creator': '(unspecified)', 'creationdate': '2025-03-10T23:20:37+05:00', 'author': '(anonymous)', 'keywords': '', 'moddate': '2025-03-10T23:20:37+05:00', 'subject': '(unspecified)', 'title': '(anonymous)', 'trapped': '/False', 'source': 'artifacts/data_transformation/repo.pdf', 'total_pages': 22, 'page': 14, 'page_label': '15'}, page_content=\"## Buyer Homepage\\n  * After clicking **Buy** all categories which are available are displayed. User can also search for required item in search bar.\\n  * ![image](https://user-images.githubusercontent.com/95306028/177822651-b505f91e-2f11-4826-951c-e6e6e0560d97.png)\\n17. Portifolio\\nupdated_at -> 2025-03-04\\ncreated_at -> 2025-01-18\\npushed_at -> 2025-03-04\\nJavaScript, HTML, CSS,\\n# Portifolio\\n18. Q-A_ChatBot_with_Implementation\\nupdated_at -> 2025-01-08\\ncreated_at -> 2025-01-07\\npushed_at -> 2025-01-08\\nPython,\\n* * *\\ntitle: LangChain ChatBot emoji: ■ colorFrom: gray colorTo: blue sdk: streamlit\\nsdk _version: 1.41.1 app_ file: app.py\\n## pinned: false\\n19. Real-Time-chatting\\nupdated_at -> 2022-06-30\\ncreated_at -> 2022-06-30\\npushed_at -> 2022-07-07\\nHTML, CSS, JavaScript,\\n# Real-Time-chatting\\nUser are directed to opening page where ther need to click 'Enter ChatRoom',\\nUpon Clicking it users are redirected to a page where they need to enter then\\nroom,upon that the user will enter into chat room where he can chat with his\\nother buddies!!\\n## Enviroment Setup Locally\\n  * Install Web Sockets and Expressjs\"),\n",
       " Document(metadata={'producer': 'ReportLab PDF Library - www.reportlab.com', 'creator': '(unspecified)', 'creationdate': '2025-03-10T23:20:37+05:00', 'author': '(anonymous)', 'keywords': '', 'moddate': '2025-03-10T23:20:37+05:00', 'subject': '(unspecified)', 'title': '(anonymous)', 'trapped': '/False', 'source': 'artifacts/data_transformation/repo.pdf', 'total_pages': 22, 'page': 15, 'page_label': '16'}, page_content='* Run the server and Connect to Port 500\\n## Tech Stack Used\\n  * HTML\\n  * JavaScript\\n  * Css\\n  * WebSockets\\n## Opening Page\\n  * This the Page we get when we Open localhost in port 5000\\n![OPENING](https://user-\\nimages.githubusercontent.com/75985363/177767489-6a32f337-8b3c-4281-a281-1d58c24ae3e0.jpg)\\n## Name Entry\\n  * User need to enter his name ![entering name](https://user-images.githubusercontent.com/75985363/177767789-5137808d-a34a-4bed-b415-b3ab67a61fca.jpg)\\n## Chat Room\\n  * After entering name User redirects to this page ![chat room](https://user-images.githubusercontent.com/75985363/177767981-0893a5eb-7aa2-4421-8bd1-da9592eeb46d.jpg)\\n20. SentimentAnalysis\\nupdated_at -> 2024-11-09\\ncreated_at -> 2024-11-09\\npushed_at -> 2024-11-09\\n# SentimentAnalysis\\n21. SimpleDVC\\nupdated_at -> 2025-02-24\\ncreated_at -> 2025-02-21\\npushed_at -> 2025-02-24\\nPython, Jupyter Notebook, HTML,\\n# WorkFlow of the Project\\n  1. Create env `bash conda create -p myenv python -y `\\n  2. activate env `bash conda activate (path to myenv) `'),\n",
       " Document(metadata={'producer': 'ReportLab PDF Library - www.reportlab.com', 'creator': '(unspecified)', 'creationdate': '2025-03-10T23:20:37+05:00', 'author': '(anonymous)', 'keywords': '', 'moddate': '2025-03-10T23:20:37+05:00', 'subject': '(unspecified)', 'title': '(anonymous)', 'trapped': '/False', 'source': 'artifacts/data_transformation/repo.pdf', 'total_pages': 22, 'page': 16, 'page_label': '17'}, page_content='3. Create Requirements.txt\\n  4. Install requirements.txt `bash pip install -r requirements.txt `\\n  5. Initilize git `bash git init `\\n  6. Initilize DVC `bash dvc init `\\n  7. Add data to DVC `bash dvc add data_given/winequality.csv `\\n  8. `bash git add . && git commit -m \"first commit\" git push origin main `\\n  9. Create params.yaml\\n  10. create get _data.py and load_ data.py to get data and add the load_data stage to dvc.yaml\\n  11. create split _data.py to split data and add the split_ data stage to dvc.yaml\\n  12. create train _and_ evaluate.py to train & evaluate model and add the train _and_ evaluate stage to dvc.yaml\\n  13. Tox `bash tox tox -r #for rebuilding use this else only tox `\\n  14. pytest `bash pytest -v `\\n  15. setup command `bash pip install -e . `\\n  16. build your own package `bash python setup.py sdist bdist_wheel `\\n  17. create the need webapp structure\\n  18. Create app.py \\n  19. Add github action workflow\\n  20. Create an articat folder\\n  21. MLflow server command `bash mlflow server --backend-store-uri sqlite:///mlflow.db --default-artifact-root ./artifacts --host 0.0.0.0 -p 1234 `\\n22. StockPrediction\\nupdated_at -> 2023-08-24\\ncreated_at -> 2023-08-24\\npushed_at -> 2023-08-24\\nJupyter Notebook,'),\n",
       " Document(metadata={'producer': 'ReportLab PDF Library - www.reportlab.com', 'creator': '(unspecified)', 'creationdate': '2025-03-10T23:20:37+05:00', 'author': '(anonymous)', 'keywords': '', 'moddate': '2025-03-10T23:20:37+05:00', 'subject': '(unspecified)', 'title': '(anonymous)', 'trapped': '/False', 'source': 'artifacts/data_transformation/repo.pdf', 'total_pages': 22, 'page': 17, 'page_label': '18'}, page_content='# StockPrediction\\nThis notebook has been executed on kaggle. To view the notebook and run it,\\nvisit : https://www.kaggle.com/code/lokesh5489/stock\\n23. student_performance\\nupdated_at -> 2025-03-02\\ncreated_at -> 2025-02-28\\npushed_at -> 2025-03-02\\nJupyter Notebook, Python, HTML,\\n# End to End ML Project (student_performance)\\n## workflow\\n  1. created setup.py, template.py and requirements.txt\\n  2. Created custom exception in exception.py and logger.py and a function to read yaml\\n  3. created EDA and Model trainer in research\\n  4. Add new config.yaml file and done data_ingestion\\n  5. Completed data transformation\\n  6. Model Training\\n  7. Created the prediction pipeline and the Flask app\\n  8. Created .ebextensions for deployment\\n  9. create .github actions\\n  10. create ECR repo and save the repo uri \\n  11. create a ec2 instance \\n  12. Create a iam user and save a access key\\n  13. In github, in settings under action/runner create a new runner. a. while running the cmds in order when asked for runner group keep it default but for runner name use self-hosted\\n  14. Create Secret keys in github which are in workflow\\n## Docker Setup In EC2 commands to be Executed'),\n",
       " Document(metadata={'producer': 'ReportLab PDF Library - www.reportlab.com', 'creator': '(unspecified)', 'creationdate': '2025-03-10T23:20:37+05:00', 'author': '(anonymous)', 'keywords': '', 'moddate': '2025-03-10T23:20:37+05:00', 'subject': '(unspecified)', 'title': '(anonymous)', 'trapped': '/False', 'source': 'artifacts/data_transformation/repo.pdf', 'total_pages': 22, 'page': 18, 'page_label': '19'}, page_content='# optinal\\n  1. sudo apt-get update -y\\n  2. sudo apt-get upgrade\\n# required\\n  1. curl -fsSL https://get.docker.com -o get-docker.sh\\n  2. sudo sh get-docker.sh\\n  3. sudo usermod -aG docker ubuntu\\n  4. newgrp docker \\n## To run\\n  1. Create a virtual env and activate it `bash conda create -p env python y conda activate /path/to/env `\\n  2. Install requirements.txt `bash pip install -r requirements.txt `\\n24. Telecom_Churn_Prediction\\nupdated_at -> 2023-08-23\\ncreated_at -> 2023-08-23\\npushed_at -> 2024-02-14\\nJupyter Notebook,\\n# Telecom _Churn_ Prediction\\nThis notebook has been executed on kaggle for utilising its GPU feature. To\\nview the dataset, visit https://www.kaggle.com/code/lokesh5489/telecomm-\\nchurn/data To visit the notebook, visit\\nhttps://www.kaggle.com/code/lokesh5489/telecomm-churn/notebook\\n25. Text-Summarizer\\nupdated_at -> 2024-09-20\\ncreated_at -> 2024-08-15\\npushed_at -> 2024-09-20\\nJupyter Notebook, Python,\\n# End-to-End Text-Summarizer'),\n",
       " Document(metadata={'producer': 'ReportLab PDF Library - www.reportlab.com', 'creator': '(unspecified)', 'creationdate': '2025-03-10T23:20:37+05:00', 'author': '(anonymous)', 'keywords': '', 'moddate': '2025-03-10T23:20:37+05:00', 'subject': '(unspecified)', 'title': '(anonymous)', 'trapped': '/False', 'source': 'artifacts/data_transformation/repo.pdf', 'total_pages': 22, 'page': 19, 'page_label': '20'}, page_content='## Workflows\\n  1. Update config.yaml\\n  2. Update params.yaml\\n  3. Update entity\\n  4. Update configuration manager in src/config\\n  5. Update components\\n  6. Update pipeline\\n  7. Update main.py\\n  8. Update app.py\\n26. Video_Web\\nupdated_at -> 2023-08-26\\ncreated_at -> 2023-08-26\\npushed_at -> 2023-08-31\\nJavaScript, CSS, HTML,\\n# LuffyMeet - A Video chat web application\\n###  Intro\\nThis is a webRTC based video chatting web application. The users can register\\nand get logged in to their user page. They can either create a new room or use\\ntheir previous rooms to join a call and chat. This implementation also\\nconsists of a real time chat and file share functionality.\\n# Deployed link\\n[noobmeet.herokuapp.com](https://noobmeet.herokuapp.com/)  \\n(Calls and chats are functional, but becasue of NO \"Access-Control-Allow-\\nOrigin\" on icon package script, fonts-awesome is blocked. So u won\\'t be able\\nto access any incall-features in the deployement. To use all the features,\\nfollow the steps in \"Getting Started\" and run it on a local machine, no\\nproblems should arise, but depending on the time, the script source may\\nchange, so u have to manually change the source in local machine)\\n# Features and Functionalities\\n  * Unlimited number of rooms \\n  * Unlimited duration calls \\n  * Multiple participants \\n  * Copy the link and share it with your friends \\n  * Toggling your audio/video stream \\n  * Mute and Hide Everyone'),\n",
       " Document(metadata={'producer': 'ReportLab PDF Library - www.reportlab.com', 'creator': '(unspecified)', 'creationdate': '2025-03-10T23:20:37+05:00', 'author': '(anonymous)', 'keywords': '', 'moddate': '2025-03-10T23:20:37+05:00', 'subject': '(unspecified)', 'title': '(anonymous)', 'trapped': '/False', 'source': 'artifacts/data_transformation/repo.pdf', 'total_pages': 22, 'page': 20, 'page_label': '21'}, page_content='* Chat and File Share in real-time \\n  * Chat before and after the meeting \\n  * Send individual messages to the participants online in the room \\n  * Screen Sharing \\n  * Recording your stream, audio and video \\n  * Full Screen Mode on double click on the video \\n# ScreenShots\\n  * Login and Register page\\n![image](https://user-\\nimages.githubusercontent.com/72460532/177010820-11f827e8-895b-4274-b568-d997184240d3.png)\\n![image](https://user-\\nimages.githubusercontent.com/72460532/177010848-5471e60c-3261-49a3-9195-a380e0085db2.png)\\n  * Main Page\\n    * Contains all the past rooms in sorted according to the time of thier last update.\\n![image](https://user-\\nimages.githubusercontent.com/72460532/177010985-a214ddf7-6ddb-42d7-8a66-a71e065fa1c4.png)\\n    * Creating a new room\\n![image](https://user-\\nimages.githubusercontent.com/72460532/177011685-74a216e6-e020-4a17-906c-763c3d3c6682.png)\\n  * Call page\\n    * Call Page (videos are just turned off, it is functional)\\n![Screenshot \\\\(1074\\\\)](https://user-\\nimages.githubusercontent.com/72460532/177011233-1c00902c-9047-41ef-9f7f-f220a4bd9d9f.png)\\n    * Automatic pop up of chat box upon recieving an message. The chat box is draggable (hold the body instead of the bar). \\n![image](https://user-\\nimages.githubusercontent.com/72460532/177011335-d0d75476-c963-435b-9c38-a67f9439aab1.png)\\n  * Chat page - Contains all the chats form previous meetings.\\n![image](https://user-\\nimages.githubusercontent.com/72460532/177011551-15db10a1-ece1-4b9e-af36-86899d273424.png)'),\n",
       " Document(metadata={'producer': 'ReportLab PDF Library - www.reportlab.com', 'creator': '(unspecified)', 'creationdate': '2025-03-10T23:20:37+05:00', 'author': '(anonymous)', 'keywords': '', 'moddate': '2025-03-10T23:20:37+05:00', 'subject': '(unspecified)', 'title': '(anonymous)', 'trapped': '/False', 'source': 'artifacts/data_transformation/repo.pdf', 'total_pages': 22, 'page': 21, 'page_label': '22'}, page_content='A more detailed description and ScreenShots will be uploaded soon. (With video\\nturned on too :-)).\\n# Demo (Not functional as now)\\n  * Open https://noobmeet.herokuapp.com/\\n  * Create an account\\n  * Set a meeting name to create your room\\n  * Click on call button and give access to camera and microphone to join call\\n  * Click on chat button to chat before the meeting starts and as well as after the meeting ends\\n  * Share the room link for others to join \\n# Getting Started\\n  * You need to have Node.js installed\\n  * clone this repo\\n    * git clone https://github.com/fivar-rox/Video_chat.git\\n    * cd video-call\\n  * Install dependencies\\n    * npm init\\n    * npm install\\n  * Start the server \\n    * npm start\\n  * open http://localhost:4000 in your browser\\n# Tech Stack\\n  * Node.js \\n  * Web RTC \\n  * Socket.io \\n  * ngrok and stun-turn server\\n  * Firebase - for database \\n  * Heroku - for hosting')]"
      ]
     },
     "execution_count": 114,
     "metadata": {},
     "output_type": "execute_result"
    }
   ],
   "source": [
    "from langchain_community.document_loaders import PyPDFLoader\n",
    "loader = PyPDFLoader(\"artifacts/data_transformation/repo.pdf\")\n",
    "docs = loader.load()\n",
    "docs"
   ]
  },
  {
   "cell_type": "code",
   "execution_count": 115,
   "metadata": {},
   "outputs": [
    {
     "data": {
      "text/plain": [
       "[Document(metadata={'producer': 'ReportLab PDF Library - www.reportlab.com', 'creator': '(unspecified)', 'creationdate': '2025-03-10T23:20:37+05:00', 'author': '(anonymous)', 'keywords': '', 'moddate': '2025-03-10T23:20:37+05:00', 'subject': '(unspecified)', 'title': '(anonymous)', 'trapped': '/False', 'source': 'artifacts/data_transformation/repo.pdf', 'total_pages': 22, 'page': 0, 'page_label': '1'}, page_content='1. AgenticAi ---> https://github.com/appsbotta/AgenticAi\\n2. AI_Assistant ---> https://github.com/appsbotta/AI_Assistant\\n3. AWS_BEDROCK ---> https://github.com/appsbotta/AWS_BEDROCK\\n4. DataSets ---> https://github.com/appsbotta/DataSets\\n5. DL-End_to_End ---> https://github.com/appsbotta/DL-End_to_End\\n6. FaceDetection_React ---> https://github.com/appsbotta/FaceDetection_React\\n7. FitnessTracker ---> https://github.com/appsbotta/FitnessTracker\\n8. Gemini ---> https://github.com/appsbotta/Gemini\\n9. ImageCaption ---> https://github.com/appsbotta/ImageCaption\\n10. JosaaDataAnalysis ---> https://github.com/appsbotta/JosaaDataAnalysis\\n11. Kidney_diease_end_to_end --->\\nhttps://github.com/appsbotta/Kidney_diease_end_to_end\\n12. LangChain ---> https://github.com/appsbotta/LangChain\\n13. Llamaindex ---> https://github.com/appsbotta/Llamaindex\\n14. Market_Basket ---> https://github.com/appsbotta/Market_Basket\\n15. Networks ---> https://github.com/appsbotta/Networks'),\n",
       " Document(metadata={'producer': 'ReportLab PDF Library - www.reportlab.com', 'creator': '(unspecified)', 'creationdate': '2025-03-10T23:20:37+05:00', 'author': '(anonymous)', 'keywords': '', 'moddate': '2025-03-10T23:20:37+05:00', 'subject': '(unspecified)', 'title': '(anonymous)', 'trapped': '/False', 'source': 'artifacts/data_transformation/repo.pdf', 'total_pages': 22, 'page': 0, 'page_label': '1'}, page_content='15. Networks ---> https://github.com/appsbotta/Networks\\n16. OlX_CLONE ---> https://github.com/appsbotta/OlX_CLONE\\n17. Portifolio ---> https://github.com/appsbotta/Portifolio\\n18. Q-A_ChatBot_with_Implementation --->\\nhttps://github.com/appsbotta/Q-A_ChatBot_with_Implementation\\n19. Real-Time-chatting ---> https://github.com/appsbotta/Real-Time-chatting\\n20. SentimentAnalysis ---> https://github.com/appsbotta/SentimentAnalysis\\n21. SimpleDVC ---> https://github.com/appsbotta/SimpleDVC\\n22. StockPrediction ---> https://github.com/appsbotta/StockPrediction\\n23. student_performance --->\\nhttps://github.com/appsbotta/student_performance\\n24. Telecom_Churn_Prediction --->\\nhttps://github.com/appsbotta/Telecom_Churn_Prediction\\n25. Text-Summarizer ---> https://github.com/appsbotta/Text-Summarizer\\n26. Video_Web ---> https://github.com/appsbotta/Video_Web\\n1. AgenticAi\\nupdated_at -> 2025-03-10\\ncreated_at -> 2025-01-13\\npushed_at -> 2025-03-10'),\n",
       " Document(metadata={'producer': 'ReportLab PDF Library - www.reportlab.com', 'creator': '(unspecified)', 'creationdate': '2025-03-10T23:20:37+05:00', 'author': '(anonymous)', 'keywords': '', 'moddate': '2025-03-10T23:20:37+05:00', 'subject': '(unspecified)', 'title': '(anonymous)', 'trapped': '/False', 'source': 'artifacts/data_transformation/repo.pdf', 'total_pages': 22, 'page': 1, 'page_label': '2'}, page_content='Python,\\nNo Readme FIle\\n2. AI_Assistant\\nupdated_at -> 2025-03-10\\ncreated_at -> 2025-03-09\\npushed_at -> 2025-03-10\\nJupyter Notebook, Python,\\n# AI_Assistant\\n3. AWS_BEDROCK\\nupdated_at -> 2025-03-07\\ncreated_at -> 2025-03-06\\npushed_at -> 2025-03-07\\nPython,\\n# AWS_BEDROCK\\n# to run this\\n## 1\\\\. Git clone the repo\\n## 2\\\\. Install requirements.txt\\n## 3\\\\. Create an IAM user with Administrtor access\\n## 4\\\\. Configure AWS in cli\\n`bash aws configure `\\n4. DataSets\\nupdated_at -> 2025-03-03\\ncreated_at -> 2023-08-27\\npushed_at -> 2025-03-03\\nJupyter Notebook,\\nNo Readme FIle\\n5. DL-End_to_End'),\n",
       " Document(metadata={'producer': 'ReportLab PDF Library - www.reportlab.com', 'creator': '(unspecified)', 'creationdate': '2025-03-10T23:20:37+05:00', 'author': '(anonymous)', 'keywords': '', 'moddate': '2025-03-10T23:20:37+05:00', 'subject': '(unspecified)', 'title': '(anonymous)', 'trapped': '/False', 'source': 'artifacts/data_transformation/repo.pdf', 'total_pages': 22, 'page': 2, 'page_label': '3'}, page_content='updated_at -> 2025-03-05\\ncreated_at -> 2025-03-02\\npushed_at -> 2025-03-05\\nJupyter Notebook, Python, HTML,\\n# DL-End _to_ End\\n## Workflow\\n  1. Update config.yaml in config dir\\n  2. Update secrets.yaml [optional]\\n  3. Update params.yaml\\n  4. Update the entity\\n  5. Update the configuration manager in src config\\n  6. Update the components\\n  7. Update the pipeline\\n  8. Update the main.py\\n  9. Update the dvc.yaml\\n# To run the repo\\n## steps\\nClone the repository `bash https://github.com/appsbotta/DL-End_to_End `\\n## step - 01 Create a conda env after opening the repo\\n`bash conda create -n ckn python=3.13 -y ` `bash conda activate ckn `\\n## step - 02 Install Requirements.txt\\n`bash pip install -r requirements.txt `\\n## step - 03 Run app.py\\n`bash python app.py `\\n## DVC cmd\\n  * dvc init\\n  * dvc repro\\n  * dvc dag\\n# AWS CI-CD Deployment using Github Actions'),\n",
       " Document(metadata={'producer': 'ReportLab PDF Library - www.reportlab.com', 'creator': '(unspecified)', 'creationdate': '2025-03-10T23:20:37+05:00', 'author': '(anonymous)', 'keywords': '', 'moddate': '2025-03-10T23:20:37+05:00', 'subject': '(unspecified)', 'title': '(anonymous)', 'trapped': '/False', 'source': 'artifacts/data_transformation/repo.pdf', 'total_pages': 22, 'page': 3, 'page_label': '4'}, page_content='## 1\\\\. Login to AWS Console\\n## 2\\\\. Create IAM user for deployment\\n```bash\\n# give these access to IAM user\\n  1. EC2 access -> this is virtual machine\\n  2. ECR: Elastic COntainer registery to save your docker image in aws\\n# About deployment\\n  1. build docker image of the source code\\n  2. Push your docker image to ECR\\n  3. Launch your EC2 instance\\n  4. Pull your image from ECR to EC2\\n  5. Launch your docker image in EC2\\n# policy\\n  1. AmazonEC2ContainerRegistryFullAccess\\n  2. AmazonEC2FullAccess\\n```\\n## 3\\\\. Create ECR repo to store /dave docker image\\n`bash copy the repo uri ex : 022499019910.dkr.ecr.us-\\neast-1.amazonaws.com/chicken `\\n## 4\\\\. Create an EC2 machine Instance(Ubuntu)\\n## 5\\\\. Connect EC2 instance and install docker\\n```bash\\n# optinal\\nsudo apt-get update -y'),\n",
       " Document(metadata={'producer': 'ReportLab PDF Library - www.reportlab.com', 'creator': '(unspecified)', 'creationdate': '2025-03-10T23:20:37+05:00', 'author': '(anonymous)', 'keywords': '', 'moddate': '2025-03-10T23:20:37+05:00', 'subject': '(unspecified)', 'title': '(anonymous)', 'trapped': '/False', 'source': 'artifacts/data_transformation/repo.pdf', 'total_pages': 22, 'page': 4, 'page_label': '5'}, page_content=\"sudo apt-get upgrade\\n# required\\ncurl -fsSL https://get.docker.com -o get-docker.sh\\nsudo sh get-docker.sh\\nsudo usermod -aG docker ubuntu\\nnewgrp docker ```\\n## 6\\\\. create a self runner in github repo settings\\n`bash in settings under action/runner create a new runner. a. while running\\nthe cmds in order when asked for runner group keep it default but for runner\\nname use self-hosted `\\n## 7\\\\. Setup github secrets\\n```bash AWS _ACCESS_ KEY_ID=\\nAWS _SECRET_ ACCESS_KEY=\\nAWS_REGION = us-east-1\\nAWS _ECR_ LOGIN_URI = ''(for example it will be 022499019910.dkr.ecr.us-\\neast-1.amazonaws.com)\\nECR _REPOSITORY_ NAME = '' (example chicken as last part of ECR uri)\\n6. FaceDetection_React\\nupdated_at -> 2023-08-19\\ncreated_at -> 2023-08-19\\npushed_at -> 2023-08-19\\nJavaScript, HTML, CSS,\\n# facedetection\\n7. FitnessTracker\\nupdated_at -> 2023-08-27\\ncreated_at -> 2023-08-27\"),\n",
       " Document(metadata={'producer': 'ReportLab PDF Library - www.reportlab.com', 'creator': '(unspecified)', 'creationdate': '2025-03-10T23:20:37+05:00', 'author': '(anonymous)', 'keywords': '', 'moddate': '2025-03-10T23:20:37+05:00', 'subject': '(unspecified)', 'title': '(anonymous)', 'trapped': '/False', 'source': 'artifacts/data_transformation/repo.pdf', 'total_pages': 22, 'page': 5, 'page_label': '6'}, page_content='pushed_at -> 2023-08-27\\nJavaScript, HTML, CSS,\\n# Fitness Tracker\\n## Description\\nThis is a Fitness Tracker built using MERN stack. It facilitates one to add\\nusers and record their date and duration of performing particular fitness\\nactivity.Activity can also be deleted. This web application is built using\\nMongoDB,Express,Nodejs,React and Material UI. Images used in this application\\nare being taken from [Unsplash website](https://unsplash.com).\\n## Demo\\n■ [Link](https://serene-volhard-1843cb.netlify.app/)\\nBackend Heroku Link-https://fitness-tracker-mern.herokuapp.com/\\n[Users](https://fitness-tracker-mern.herokuapp.com/users)\\n[Exercises](https://fitness-tracker-mern.herokuapp.com/exercises)\\n## Screenshots\\nHomepage ![fitkit_home](https://user-\\nimages.githubusercontent.com/4997491/117522296-20021d80-afd0-11eb-8079-922a4d51925a.JPG)\\nCreate user ![fitkit_user](https://user-\\nimages.githubusercontent.com/4997491/117525054-3911cb00-afde-11eb-97b5-a468f17935de.JPG)'),\n",
       " Document(metadata={'producer': 'ReportLab PDF Library - www.reportlab.com', 'creator': '(unspecified)', 'creationdate': '2025-03-10T23:20:37+05:00', 'author': '(anonymous)', 'keywords': '', 'moddate': '2025-03-10T23:20:37+05:00', 'subject': '(unspecified)', 'title': '(anonymous)', 'trapped': '/False', 'source': 'artifacts/data_transformation/repo.pdf', 'total_pages': 22, 'page': 5, 'page_label': '6'}, page_content='images.githubusercontent.com/4997491/117525054-3911cb00-afde-11eb-97b5-a468f17935de.JPG)\\nRecord Fitness Activity ![fitkit_exercise](https://user-\\nimages.githubusercontent.com/4997491/117525061-3d3de880-afde-11eb-9201-acdb5b804f40.JPG)\\nFitness Activity Dashboard ![fitkit_dashboard](https://user-\\nimages.githubusercontent.com/4997491/117525087-652d4c00-afde-11eb-92d4-0fda6f5c5d03.JPG)\\n404 Error page ![error](https://user-\\nimages.githubusercontent.com/4997491/117525227-dcfb7680-afde-11eb-9434-a8f93c5b76d7.JPG)\\n## Available Scripts\\nIn the project directory, you can run:\\n`npm start`'),\n",
       " Document(metadata={'producer': 'ReportLab PDF Library - www.reportlab.com', 'creator': '(unspecified)', 'creationdate': '2025-03-10T23:20:37+05:00', 'author': '(anonymous)', 'keywords': '', 'moddate': '2025-03-10T23:20:37+05:00', 'subject': '(unspecified)', 'title': '(anonymous)', 'trapped': '/False', 'source': 'artifacts/data_transformation/repo.pdf', 'total_pages': 22, 'page': 6, 'page_label': '7'}, page_content='Runs the app in the development mode.  \\nOpen <http://localhost:3000> to view it in the browser.\\n8. Gemini\\nupdated_at -> 2025-02-16\\ncreated_at -> 2025-01-16\\npushed_at -> 2025-02-16\\nPython,\\nNo Readme FIle\\n9. ImageCaption\\nupdated_at -> 2024-08-04\\ncreated_at -> 2023-06-20\\npushed_at -> 2024-08-04\\nPython, HTML,\\n# image-caption-generator\\n## Deployed Link\\n[Image Caption](https://image-caption-gen-deploy-1.streamlit.app/)\\n# Home page\\n![Screenshot \\\\(82\\\\)](https://github.com/Vidya132/image-caption-\\ngenerator/assets/95306028/33837fd6-2e5a-4329-9038-5034fecc4e11)\\n# Upon selecting caption predictor\\n![Screenshot \\\\(470\\\\)](https://github.com/Vidya132/image-caption-\\ngenerator/assets/95306028/20c43357-01e9-4c5d-94ad-6182d370a625)\\n# Sample Images\\n![Screenshot \\\\(28\\\\)](https://github.com/Vidya132/image-caption-\\ngenerator/assets/95306028/f6fe65e4-964e-48f0-98ef-703cdd872750) ![Screenshot\\n\\\\(27\\\\)](https://github.com/Vidya132/image-caption-\\ngenerator/assets/95306028/492b7abd-e277-4e06-b2d0-a8ffef509597)'),\n",
       " Document(metadata={'producer': 'ReportLab PDF Library - www.reportlab.com', 'creator': '(unspecified)', 'creationdate': '2025-03-10T23:20:37+05:00', 'author': '(anonymous)', 'keywords': '', 'moddate': '2025-03-10T23:20:37+05:00', 'subject': '(unspecified)', 'title': '(anonymous)', 'trapped': '/False', 'source': 'artifacts/data_transformation/repo.pdf', 'total_pages': 22, 'page': 6, 'page_label': '7'}, page_content='generator/assets/95306028/492b7abd-e277-4e06-b2d0-a8ffef509597)\\n10. JosaaDataAnalysis\\nupdated_at -> 2023-08-28'),\n",
       " Document(metadata={'producer': 'ReportLab PDF Library - www.reportlab.com', 'creator': '(unspecified)', 'creationdate': '2025-03-10T23:20:37+05:00', 'author': '(anonymous)', 'keywords': '', 'moddate': '2025-03-10T23:20:37+05:00', 'subject': '(unspecified)', 'title': '(anonymous)', 'trapped': '/False', 'source': 'artifacts/data_transformation/repo.pdf', 'total_pages': 22, 'page': 7, 'page_label': '8'}, page_content='created_at -> 2023-08-28\\npushed_at -> 2023-08-28\\nHTML, Python, CSS,\\n# JOSAA-data-analysis\\nThis project aims to create a portal that allows users to explore the seat\\nallotment statistics of JOSAA (Joint Seat Allocation Authority) from 2016 to\\n2022. The project involves web scraping data from the JOSAA website,\\nperforming data cleaning and analysis, and presenting the insights through\\nvisualizations on a website frontend. The website presents the findings\\nthrough interactive charts and tables, enabling users to gain valuable\\ninsights into the trends and patterns of seat allotments over the years.\\n## Tech Stack/Frameworks:\\n  * Frontend: HTML, CSS, JavaScript\\n  * Backend: Django\\n  * Database: SQLite\\n  * Data Scraping: Beautiful Soup\\n  * Data Cleaning: NumPy, Pandas\\n  * Data Visualization: Chart.js\\n## Command to run the project locally\\n  * python manage.py runserver\\n  * Then run the server locally on port 8000\\n## Home page'),\n",
       " Document(metadata={'producer': 'ReportLab PDF Library - www.reportlab.com', 'creator': '(unspecified)', 'creationdate': '2025-03-10T23:20:37+05:00', 'author': '(anonymous)', 'keywords': '', 'moddate': '2025-03-10T23:20:37+05:00', 'subject': '(unspecified)', 'title': '(anonymous)', 'trapped': '/False', 'source': 'artifacts/data_transformation/repo.pdf', 'total_pages': 22, 'page': 7, 'page_label': '8'}, page_content=\"* python manage.py runserver\\n  * Then run the server locally on port 8000\\n## Home page\\nThe home page of the JOSAA Analysis portal provides a user-friendly interface\\nto explore and analyze the JOSAA seat allotment statistics. It offers several\\ninsightful sections to delve into the data and gain valuable information.\\nHere's a breakdown of each section: \\\\- View Institute wise cut-off \\\\- Analyze\\ninstitute wise cut-off trends \\\\- Roundwise cut-off Analysis\\n  * ![home](https://github.com/Vidya132/JOSAA-data-analysis/assets/95306028/1d752e47-ef2d-4b4c-bf66-77fc8817c09d)\\n## View Institute wise cut-off list page\\n  * Upon clicking this option, a list of all IITs is shown along with their NIRF ranking(2023), Location and their established year. So the users can select specific institutes and explore the corresponding cut-off data.\\n  * ![iit list](https://github.com/Vidya132/JOSAA-data-analysis/assets/95306028/f4f562e1-c93b-48a5-a114-4c321b296fe6)\\n    * ### For each IIT\"),\n",
       " Document(metadata={'producer': 'ReportLab PDF Library - www.reportlab.com', 'creator': '(unspecified)', 'creationdate': '2025-03-10T23:20:37+05:00', 'author': '(anonymous)', 'keywords': '', 'moddate': '2025-03-10T23:20:37+05:00', 'subject': '(unspecified)', 'title': '(anonymous)', 'trapped': '/False', 'source': 'artifacts/data_transformation/repo.pdf', 'total_pages': 22, 'page': 7, 'page_label': '8'}, page_content='* ### For each IIT \\n      * By selecting a specific IIT, users can explore the trends and changes in the cut-off ranks throughout the various rounds of the seat allocation process over the years 2016 to 2022.'),\n",
       " Document(metadata={'producer': 'ReportLab PDF Library - www.reportlab.com', 'creator': '(unspecified)', 'creationdate': '2025-03-10T23:20:37+05:00', 'author': '(anonymous)', 'keywords': '', 'moddate': '2025-03-10T23:20:37+05:00', 'subject': '(unspecified)', 'title': '(anonymous)', 'trapped': '/False', 'source': 'artifacts/data_transformation/repo.pdf', 'total_pages': 22, 'page': 8, 'page_label': '9'}, page_content='* It can further narrow down their search by choosing specific programs offered by the selected institutes along with seat type and gender.\\n      * This feature helps users understand the cut-off trends for different programs in their preferred institutes.\\n      * ![first graph](https://github.com/Vidya132/JOSAA-data-analysis/assets/95306028/5c411f78-ea17-4218-a0d6-9a8740ad78b5)\\n## Analyze institute wise cut-off trends\\n  * Institute trends highlight the trends of various programs offered by a particular institute over the years. This helps understand the popularity and perception of programs offered by the institute, and thus helps understand the demand for a particular program in the institute during the counselling process.\\n  * ![Screenshot \\\\(20\\\\)](https://github.com/Vidya132/JOSAA-data-analysis/assets/95306028/45d3feab-6bf4-4611-91fb-91580b6a90ce)\\n  * Upon sleecting the gender, branch and institute, user will get the cut-off analysis for each branch present at that IIT.'),\n",
       " Document(metadata={'producer': 'ReportLab PDF Library - www.reportlab.com', 'creator': '(unspecified)', 'creationdate': '2025-03-10T23:20:37+05:00', 'author': '(anonymous)', 'keywords': '', 'moddate': '2025-03-10T23:20:37+05:00', 'subject': '(unspecified)', 'title': '(anonymous)', 'trapped': '/False', 'source': 'artifacts/data_transformation/repo.pdf', 'total_pages': 22, 'page': 8, 'page_label': '9'}, page_content='* ![Screenshot \\\\(22\\\\)](https://github.com/Vidya132/JOSAA-data-analysis/assets/95306028/1db046fe-c44c-4627-8282-c8143bf0a88a)\\n## Roundwise cut-off Analysis\\n  * Round trends highlight the general trend of closing ranks throughout the rounds of the counselling process. This helps understand the likely range of changes to the closing ranks throught the counselling proces.\\n  * Users can get the round wise analysis at each IIT by selecting the gender,seat type and branch. \\n  * User can change the college name by clicking on \"Go to iit-list\" buttion.\\n  * ![Screenshot \\\\(25\\\\)](https://github.com/Vidya132/JOSAA-data-analysis/assets/95306028/3206dd19-d8fb-4e88-ace9-84a743db723e)\\n11. Kidney_diease_end_to_end\\nupdated_at -> 2025-03-05\\ncreated_at -> 2025-03-05\\npushed_at -> 2025-03-05\\nPython, Jupyter Notebook,\\n# Kidney _diease_ end _to_ end\\n## Workflow\\n  1. Update config.yaml in config dir\\n  2. Update secrets.yaml [optional]\\n  3. Update params.yaml\\n  4. Update the entity'),\n",
       " Document(metadata={'producer': 'ReportLab PDF Library - www.reportlab.com', 'creator': '(unspecified)', 'creationdate': '2025-03-10T23:20:37+05:00', 'author': '(anonymous)', 'keywords': '', 'moddate': '2025-03-10T23:20:37+05:00', 'subject': '(unspecified)', 'title': '(anonymous)', 'trapped': '/False', 'source': 'artifacts/data_transformation/repo.pdf', 'total_pages': 22, 'page': 8, 'page_label': '9'}, page_content='2. Update secrets.yaml [optional]\\n  3. Update params.yaml\\n  4. Update the entity\\n  5. Update the configuration manager in src config\\n  6. Update the components\\n  7. Update the pipeline\\n  8. Update the main.py\\n  9. Update the dvc.yaml\\n# To run the repo\\n## steps'),\n",
       " Document(metadata={'producer': 'ReportLab PDF Library - www.reportlab.com', 'creator': '(unspecified)', 'creationdate': '2025-03-10T23:20:37+05:00', 'author': '(anonymous)', 'keywords': '', 'moddate': '2025-03-10T23:20:37+05:00', 'subject': '(unspecified)', 'title': '(anonymous)', 'trapped': '/False', 'source': 'artifacts/data_transformation/repo.pdf', 'total_pages': 22, 'page': 9, 'page_label': '10'}, page_content='Clone the repository `bash\\nhttps://github.com/appsbotta/Kidney_diease_end_to_end `\\n## step - 01 Create a conda env after opening the repo\\n`bash conda create -n ckn python=3.8 -y ` `bash conda activate ckn `\\n## step - 02 Install Requirements.txt\\n`bash pip install -r requirements.txt `\\n## step - 03 Run app.py\\n`bash python app.py `\\n## DVC cmd\\n  * dvc init\\n  * dvc repro\\n  * dvc dag\\n# AWS CI-CD Deployment using Github Actions\\n## 1\\\\. Login to AWS Console\\n## 2\\\\. Create IAM user for deployment\\n```bash\\n# give these access to IAM user\\n  1. EC2 access -> this is virtual machine\\n  2. ECR: Elastic COntainer registery to save your docker image in aws\\n# About deployment\\n  1. build docker image of the source code\\n  2. Push your docker image to ECR\\n  3. Launch your EC2 instance\\n  4. Pull your image from ECR to EC2\\n  5. Launch your docker image in EC2'),\n",
       " Document(metadata={'producer': 'ReportLab PDF Library - www.reportlab.com', 'creator': '(unspecified)', 'creationdate': '2025-03-10T23:20:37+05:00', 'author': '(anonymous)', 'keywords': '', 'moddate': '2025-03-10T23:20:37+05:00', 'subject': '(unspecified)', 'title': '(anonymous)', 'trapped': '/False', 'source': 'artifacts/data_transformation/repo.pdf', 'total_pages': 22, 'page': 10, 'page_label': '11'}, page_content='# policy\\n  1. AmazonEC2ContainerRegistryFullAccess\\n  2. AmazonEC2FullAccess\\n```\\n12. LangChain\\nupdated_at -> 2025-03-09\\ncreated_at -> 2025-01-13\\npushed_at -> 2025-03-09\\nJupyter Notebook, Python,\\n# LangChain Projects\\nThis repository showcases various applications and experiments utilizing the\\nLangChain framework, which is designed for building applications powered by\\nlarge language models (LLMs).\\n## Table of Contents\\n  * Projects\\n    * LLMAPP\\n    * PdfQuery\\n    * ChatMultipleDocs\\n    * TextSummarization\\n    * Celebrity.py\\n  * Installation\\n  * Usage\\n  * Contributing\\n  * License\\n## Projects\\n### LLMAPP\\nA project demonstrating the integration of LangChain with large language\\nmodels to build intelligent applications.\\n### PdfQuery\\nAn application that utilizes LangChain to extract and process information from\\nPDF documents.'),\n",
       " Document(metadata={'producer': 'ReportLab PDF Library - www.reportlab.com', 'creator': '(unspecified)', 'creationdate': '2025-03-10T23:20:37+05:00', 'author': '(anonymous)', 'keywords': '', 'moddate': '2025-03-10T23:20:37+05:00', 'subject': '(unspecified)', 'title': '(anonymous)', 'trapped': '/False', 'source': 'artifacts/data_transformation/repo.pdf', 'total_pages': 22, 'page': 11, 'page_label': '12'}, page_content='### ChatMultipleDocs\\nA chatbot implementation capable of interacting with multiple documents,\\npowered by LangChain.\\n### TextSummarization\\nA tool that leverages LangChain to provide text summarization capabilities.\\n### Celebrity.py\\nA script that explores web to get the data related to a Celebrity given his\\nname and any 5 major events happend around his DOB\\n## Installation\\n  1. **Clone the repository:**\\n```bash git clone https://github.com/appsbotta/LangChain.git cd LangChain\\n  2. **Create a virtual environment:**\\n```bash conda create -p myenv python conda activate path/to/myenv\\n  3. **Install the required dependencies:**\\n```bash pip install -r requirements.txt\\n  4. **Create a`.env` file in the root of the repository:**\\nAdd your API keys to the .env file ```bash touch .env\\n## Usage\\nEach project is contained within its respective directory. Navigate to the\\ndesired project folder and follow the instructions provided above\\n13. Llamaindex\\nupdated_at -> 2025-01-17\\ncreated_at -> 2025-01-17'),\n",
       " Document(metadata={'producer': 'ReportLab PDF Library - www.reportlab.com', 'creator': '(unspecified)', 'creationdate': '2025-03-10T23:20:37+05:00', 'author': '(anonymous)', 'keywords': '', 'moddate': '2025-03-10T23:20:37+05:00', 'subject': '(unspecified)', 'title': '(anonymous)', 'trapped': '/False', 'source': 'artifacts/data_transformation/repo.pdf', 'total_pages': 22, 'page': 11, 'page_label': '12'}, page_content='13. Llamaindex\\nupdated_at -> 2025-01-17\\ncreated_at -> 2025-01-17\\npushed_at -> 2025-01-17\\nJupyter Notebook,\\n# Llamaindex'),\n",
       " Document(metadata={'producer': 'ReportLab PDF Library - www.reportlab.com', 'creator': '(unspecified)', 'creationdate': '2025-03-10T23:20:37+05:00', 'author': '(anonymous)', 'keywords': '', 'moddate': '2025-03-10T23:20:37+05:00', 'subject': '(unspecified)', 'title': '(anonymous)', 'trapped': '/False', 'source': 'artifacts/data_transformation/repo.pdf', 'total_pages': 22, 'page': 12, 'page_label': '13'}, page_content='14. Market_Basket\\nupdated_at -> 2023-08-15\\ncreated_at -> 2023-08-15\\npushed_at -> 2023-08-15\\nJupyter Notebook,\\n# Market_Basket\\nThis notebook has been executed on kaggle. To view the notebook and run it,\\nhttps://www.kaggle.com/code/lokesh5489/market-basket To view the concerned\\ndataset, visit https://www.kaggle.com/code/lokesh5489/market-basket/data\\nUsed Aprior algorithm to find relation between two products\\n15. Networks\\nupdated_at -> 2024-05-25\\ncreated_at -> 2024-05-23\\npushed_at -> 2024-05-25\\nC++, HTML, C,\\n# # The Network Simulator, Version 3\\n## Changes that we made\\n### 1.lte-ue-mac.cc\\n  * added one pre-defined table for type-0 allocation at line 52\\n  * Added Pf in line 404\\n  * Added function to get rbg size at line 503\\n  * line 2482 for grant printing in random allocation\\n  * line 2532 code for PF allocation, CQI calculation,mcs from cqi\\n  * added function at line 2715\\n### 2.lte-sl-out-of-covrg-comm.cc\\n  * At line 268 added code to print from rrc'),\n",
       " Document(metadata={'producer': 'ReportLab PDF Library - www.reportlab.com', 'creator': '(unspecified)', 'creationdate': '2025-03-10T23:20:37+05:00', 'author': '(anonymous)', 'keywords': '', 'moddate': '2025-03-10T23:20:37+05:00', 'subject': '(unspecified)', 'title': '(anonymous)', 'trapped': '/False', 'source': 'artifacts/data_transformation/repo.pdf', 'total_pages': 22, 'page': 12, 'page_label': '13'}, page_content='### 2.lte-sl-out-of-covrg-comm.cc\\n  * At line 268 added code to print from rrc\\n  * At line 412 added code to print from mac\\n16. OlX_CLONE\\nupdated_at -> 2023-08-26\\ncreated_at -> 2023-08-26'),\n",
       " Document(metadata={'producer': 'ReportLab PDF Library - www.reportlab.com', 'creator': '(unspecified)', 'creationdate': '2025-03-10T23:20:37+05:00', 'author': '(anonymous)', 'keywords': '', 'moddate': '2025-03-10T23:20:37+05:00', 'subject': '(unspecified)', 'title': '(anonymous)', 'trapped': '/False', 'source': 'artifacts/data_transformation/repo.pdf', 'total_pages': 22, 'page': 13, 'page_label': '14'}, page_content='pushed_at -> 2023-08-26\\nJavaScript, CSS, HTML,\\n# OLX _clone_ IITG\\n## About the website\\nUsers are directed to login page on opening the website. Users have to login\\nusing their Outlook Id. Later user will be directed to home page of the\\nwebsite where two buttons will be displayed. Here user can choose whether to\\nbuy or sell and based on that available categories will be diplayed. Profile\\nshows logged in users profile. Logout button logs out the user.\\n## Environment Setup Locally\\n  * Install React\\n  * Use npm install in both Backend and Client \\n  * ...\\n## Tech Stack Used\\n  * React\\n  * MongoDB\\n  * Express\\n  * Node\\n  * HTML\\n  * CSS\\n  * Javascript\\n## Key Features\\n  * User can login and logout using Outlook Id\\n  * Functionality to buy and sell\\n  * Seller Profile Containing all the products he want to sell and stats of every deal he made, like people who are interested with listed money'),\n",
       " Document(metadata={'producer': 'ReportLab PDF Library - www.reportlab.com', 'creator': '(unspecified)', 'creationdate': '2025-03-10T23:20:37+05:00', 'author': '(anonymous)', 'keywords': '', 'moddate': '2025-03-10T23:20:37+05:00', 'subject': '(unspecified)', 'title': '(anonymous)', 'trapped': '/False', 'source': 'artifacts/data_transformation/repo.pdf', 'total_pages': 22, 'page': 13, 'page_label': '14'}, page_content='* Search functionality for buyer and filter method to get his wanted product within the desired price range\\n  * Product details along with buyer details\\n  * Option to agree to listed deal or to reach out seller for some negotiation for a particular product\\n  * Marks product as sold if deal is made\\n## Login page\\n  * The web application is authenticated and user must sign in using Outlook Id. ![image](https://user-images.githubusercontent.com/95306028/177820740-33b49604-b1b1-4285-bc41-9b9a5bf5b1ce.png)\\n## Home page\\n  * After login the home page will be displayed, where user can choose to buy or sell items. ![image](https://user-images.githubusercontent.com/95306028/177821314-90828c2c-6ef6-4644-9729-df123930b31c.png)'),\n",
       " Document(metadata={'producer': 'ReportLab PDF Library - www.reportlab.com', 'creator': '(unspecified)', 'creationdate': '2025-03-10T23:20:37+05:00', 'author': '(anonymous)', 'keywords': '', 'moddate': '2025-03-10T23:20:37+05:00', 'subject': '(unspecified)', 'title': '(anonymous)', 'trapped': '/False', 'source': 'artifacts/data_transformation/repo.pdf', 'total_pages': 22, 'page': 14, 'page_label': '15'}, page_content=\"## Buyer Homepage\\n  * After clicking **Buy** all categories which are available are displayed. User can also search for required item in search bar.\\n  * ![image](https://user-images.githubusercontent.com/95306028/177822651-b505f91e-2f11-4826-951c-e6e6e0560d97.png)\\n17. Portifolio\\nupdated_at -> 2025-03-04\\ncreated_at -> 2025-01-18\\npushed_at -> 2025-03-04\\nJavaScript, HTML, CSS,\\n# Portifolio\\n18. Q-A_ChatBot_with_Implementation\\nupdated_at -> 2025-01-08\\ncreated_at -> 2025-01-07\\npushed_at -> 2025-01-08\\nPython,\\n* * *\\ntitle: LangChain ChatBot emoji: ■ colorFrom: gray colorTo: blue sdk: streamlit\\nsdk _version: 1.41.1 app_ file: app.py\\n## pinned: false\\n19. Real-Time-chatting\\nupdated_at -> 2022-06-30\\ncreated_at -> 2022-06-30\\npushed_at -> 2022-07-07\\nHTML, CSS, JavaScript,\\n# Real-Time-chatting\\nUser are directed to opening page where ther need to click 'Enter ChatRoom',\\nUpon Clicking it users are redirected to a page where they need to enter then\"),\n",
       " Document(metadata={'producer': 'ReportLab PDF Library - www.reportlab.com', 'creator': '(unspecified)', 'creationdate': '2025-03-10T23:20:37+05:00', 'author': '(anonymous)', 'keywords': '', 'moddate': '2025-03-10T23:20:37+05:00', 'subject': '(unspecified)', 'title': '(anonymous)', 'trapped': '/False', 'source': 'artifacts/data_transformation/repo.pdf', 'total_pages': 22, 'page': 14, 'page_label': '15'}, page_content='Upon Clicking it users are redirected to a page where they need to enter then\\nroom,upon that the user will enter into chat room where he can chat with his\\nother buddies!!\\n## Enviroment Setup Locally\\n  * Install Web Sockets and Expressjs'),\n",
       " Document(metadata={'producer': 'ReportLab PDF Library - www.reportlab.com', 'creator': '(unspecified)', 'creationdate': '2025-03-10T23:20:37+05:00', 'author': '(anonymous)', 'keywords': '', 'moddate': '2025-03-10T23:20:37+05:00', 'subject': '(unspecified)', 'title': '(anonymous)', 'trapped': '/False', 'source': 'artifacts/data_transformation/repo.pdf', 'total_pages': 22, 'page': 15, 'page_label': '16'}, page_content='* Run the server and Connect to Port 500\\n## Tech Stack Used\\n  * HTML\\n  * JavaScript\\n  * Css\\n  * WebSockets\\n## Opening Page\\n  * This the Page we get when we Open localhost in port 5000\\n![OPENING](https://user-\\nimages.githubusercontent.com/75985363/177767489-6a32f337-8b3c-4281-a281-1d58c24ae3e0.jpg)\\n## Name Entry\\n  * User need to enter his name ![entering name](https://user-images.githubusercontent.com/75985363/177767789-5137808d-a34a-4bed-b415-b3ab67a61fca.jpg)\\n## Chat Room\\n  * After entering name User redirects to this page ![chat room](https://user-images.githubusercontent.com/75985363/177767981-0893a5eb-7aa2-4421-8bd1-da9592eeb46d.jpg)\\n20. SentimentAnalysis\\nupdated_at -> 2024-11-09\\ncreated_at -> 2024-11-09\\npushed_at -> 2024-11-09\\n# SentimentAnalysis\\n21. SimpleDVC\\nupdated_at -> 2025-02-24\\ncreated_at -> 2025-02-21\\npushed_at -> 2025-02-24\\nPython, Jupyter Notebook, HTML,\\n# WorkFlow of the Project\\n  1. Create env `bash conda create -p myenv python -y `'),\n",
       " Document(metadata={'producer': 'ReportLab PDF Library - www.reportlab.com', 'creator': '(unspecified)', 'creationdate': '2025-03-10T23:20:37+05:00', 'author': '(anonymous)', 'keywords': '', 'moddate': '2025-03-10T23:20:37+05:00', 'subject': '(unspecified)', 'title': '(anonymous)', 'trapped': '/False', 'source': 'artifacts/data_transformation/repo.pdf', 'total_pages': 22, 'page': 15, 'page_label': '16'}, page_content='# WorkFlow of the Project\\n  1. Create env `bash conda create -p myenv python -y `\\n  2. activate env `bash conda activate (path to myenv) `'),\n",
       " Document(metadata={'producer': 'ReportLab PDF Library - www.reportlab.com', 'creator': '(unspecified)', 'creationdate': '2025-03-10T23:20:37+05:00', 'author': '(anonymous)', 'keywords': '', 'moddate': '2025-03-10T23:20:37+05:00', 'subject': '(unspecified)', 'title': '(anonymous)', 'trapped': '/False', 'source': 'artifacts/data_transformation/repo.pdf', 'total_pages': 22, 'page': 16, 'page_label': '17'}, page_content='3. Create Requirements.txt\\n  4. Install requirements.txt `bash pip install -r requirements.txt `\\n  5. Initilize git `bash git init `\\n  6. Initilize DVC `bash dvc init `\\n  7. Add data to DVC `bash dvc add data_given/winequality.csv `\\n  8. `bash git add . && git commit -m \"first commit\" git push origin main `\\n  9. Create params.yaml\\n  10. create get _data.py and load_ data.py to get data and add the load_data stage to dvc.yaml\\n  11. create split _data.py to split data and add the split_ data stage to dvc.yaml\\n  12. create train _and_ evaluate.py to train & evaluate model and add the train _and_ evaluate stage to dvc.yaml\\n  13. Tox `bash tox tox -r #for rebuilding use this else only tox `\\n  14. pytest `bash pytest -v `\\n  15. setup command `bash pip install -e . `\\n  16. build your own package `bash python setup.py sdist bdist_wheel `\\n  17. create the need webapp structure\\n  18. Create app.py \\n  19. Add github action workflow\\n  20. Create an articat folder'),\n",
       " Document(metadata={'producer': 'ReportLab PDF Library - www.reportlab.com', 'creator': '(unspecified)', 'creationdate': '2025-03-10T23:20:37+05:00', 'author': '(anonymous)', 'keywords': '', 'moddate': '2025-03-10T23:20:37+05:00', 'subject': '(unspecified)', 'title': '(anonymous)', 'trapped': '/False', 'source': 'artifacts/data_transformation/repo.pdf', 'total_pages': 22, 'page': 16, 'page_label': '17'}, page_content='18. Create app.py \\n  19. Add github action workflow\\n  20. Create an articat folder\\n  21. MLflow server command `bash mlflow server --backend-store-uri sqlite:///mlflow.db --default-artifact-root ./artifacts --host 0.0.0.0 -p 1234 `\\n22. StockPrediction\\nupdated_at -> 2023-08-24\\ncreated_at -> 2023-08-24\\npushed_at -> 2023-08-24\\nJupyter Notebook,'),\n",
       " Document(metadata={'producer': 'ReportLab PDF Library - www.reportlab.com', 'creator': '(unspecified)', 'creationdate': '2025-03-10T23:20:37+05:00', 'author': '(anonymous)', 'keywords': '', 'moddate': '2025-03-10T23:20:37+05:00', 'subject': '(unspecified)', 'title': '(anonymous)', 'trapped': '/False', 'source': 'artifacts/data_transformation/repo.pdf', 'total_pages': 22, 'page': 17, 'page_label': '18'}, page_content='# StockPrediction\\nThis notebook has been executed on kaggle. To view the notebook and run it,\\nvisit : https://www.kaggle.com/code/lokesh5489/stock\\n23. student_performance\\nupdated_at -> 2025-03-02\\ncreated_at -> 2025-02-28\\npushed_at -> 2025-03-02\\nJupyter Notebook, Python, HTML,\\n# End to End ML Project (student_performance)\\n## workflow\\n  1. created setup.py, template.py and requirements.txt\\n  2. Created custom exception in exception.py and logger.py and a function to read yaml\\n  3. created EDA and Model trainer in research\\n  4. Add new config.yaml file and done data_ingestion\\n  5. Completed data transformation\\n  6. Model Training\\n  7. Created the prediction pipeline and the Flask app\\n  8. Created .ebextensions for deployment\\n  9. create .github actions\\n  10. create ECR repo and save the repo uri \\n  11. create a ec2 instance \\n  12. Create a iam user and save a access key'),\n",
       " Document(metadata={'producer': 'ReportLab PDF Library - www.reportlab.com', 'creator': '(unspecified)', 'creationdate': '2025-03-10T23:20:37+05:00', 'author': '(anonymous)', 'keywords': '', 'moddate': '2025-03-10T23:20:37+05:00', 'subject': '(unspecified)', 'title': '(anonymous)', 'trapped': '/False', 'source': 'artifacts/data_transformation/repo.pdf', 'total_pages': 22, 'page': 17, 'page_label': '18'}, page_content='11. create a ec2 instance \\n  12. Create a iam user and save a access key\\n  13. In github, in settings under action/runner create a new runner. a. while running the cmds in order when asked for runner group keep it default but for runner name use self-hosted\\n  14. Create Secret keys in github which are in workflow\\n## Docker Setup In EC2 commands to be Executed'),\n",
       " Document(metadata={'producer': 'ReportLab PDF Library - www.reportlab.com', 'creator': '(unspecified)', 'creationdate': '2025-03-10T23:20:37+05:00', 'author': '(anonymous)', 'keywords': '', 'moddate': '2025-03-10T23:20:37+05:00', 'subject': '(unspecified)', 'title': '(anonymous)', 'trapped': '/False', 'source': 'artifacts/data_transformation/repo.pdf', 'total_pages': 22, 'page': 18, 'page_label': '19'}, page_content='# optinal\\n  1. sudo apt-get update -y\\n  2. sudo apt-get upgrade\\n# required\\n  1. curl -fsSL https://get.docker.com -o get-docker.sh\\n  2. sudo sh get-docker.sh\\n  3. sudo usermod -aG docker ubuntu\\n  4. newgrp docker \\n## To run\\n  1. Create a virtual env and activate it `bash conda create -p env python y conda activate /path/to/env `\\n  2. Install requirements.txt `bash pip install -r requirements.txt `\\n24. Telecom_Churn_Prediction\\nupdated_at -> 2023-08-23\\ncreated_at -> 2023-08-23\\npushed_at -> 2024-02-14\\nJupyter Notebook,\\n# Telecom _Churn_ Prediction\\nThis notebook has been executed on kaggle for utilising its GPU feature. To\\nview the dataset, visit https://www.kaggle.com/code/lokesh5489/telecomm-\\nchurn/data To visit the notebook, visit\\nhttps://www.kaggle.com/code/lokesh5489/telecomm-churn/notebook\\n25. Text-Summarizer\\nupdated_at -> 2024-09-20\\ncreated_at -> 2024-08-15\\npushed_at -> 2024-09-20\\nJupyter Notebook, Python,\\n# End-to-End Text-Summarizer'),\n",
       " Document(metadata={'producer': 'ReportLab PDF Library - www.reportlab.com', 'creator': '(unspecified)', 'creationdate': '2025-03-10T23:20:37+05:00', 'author': '(anonymous)', 'keywords': '', 'moddate': '2025-03-10T23:20:37+05:00', 'subject': '(unspecified)', 'title': '(anonymous)', 'trapped': '/False', 'source': 'artifacts/data_transformation/repo.pdf', 'total_pages': 22, 'page': 19, 'page_label': '20'}, page_content='## Workflows\\n  1. Update config.yaml\\n  2. Update params.yaml\\n  3. Update entity\\n  4. Update configuration manager in src/config\\n  5. Update components\\n  6. Update pipeline\\n  7. Update main.py\\n  8. Update app.py\\n26. Video_Web\\nupdated_at -> 2023-08-26\\ncreated_at -> 2023-08-26\\npushed_at -> 2023-08-31\\nJavaScript, CSS, HTML,\\n# LuffyMeet - A Video chat web application\\n###  Intro\\nThis is a webRTC based video chatting web application. The users can register\\nand get logged in to their user page. They can either create a new room or use\\ntheir previous rooms to join a call and chat. This implementation also\\nconsists of a real time chat and file share functionality.\\n# Deployed link\\n[noobmeet.herokuapp.com](https://noobmeet.herokuapp.com/)  \\n(Calls and chats are functional, but becasue of NO \"Access-Control-Allow-\\nOrigin\" on icon package script, fonts-awesome is blocked. So u won\\'t be able\\nto access any incall-features in the deployement. To use all the features,'),\n",
       " Document(metadata={'producer': 'ReportLab PDF Library - www.reportlab.com', 'creator': '(unspecified)', 'creationdate': '2025-03-10T23:20:37+05:00', 'author': '(anonymous)', 'keywords': '', 'moddate': '2025-03-10T23:20:37+05:00', 'subject': '(unspecified)', 'title': '(anonymous)', 'trapped': '/False', 'source': 'artifacts/data_transformation/repo.pdf', 'total_pages': 22, 'page': 19, 'page_label': '20'}, page_content='to access any incall-features in the deployement. To use all the features,\\nfollow the steps in \"Getting Started\" and run it on a local machine, no\\nproblems should arise, but depending on the time, the script source may\\nchange, so u have to manually change the source in local machine)\\n# Features and Functionalities\\n  * Unlimited number of rooms \\n  * Unlimited duration calls \\n  * Multiple participants \\n  * Copy the link and share it with your friends \\n  * Toggling your audio/video stream \\n  * Mute and Hide Everyone'),\n",
       " Document(metadata={'producer': 'ReportLab PDF Library - www.reportlab.com', 'creator': '(unspecified)', 'creationdate': '2025-03-10T23:20:37+05:00', 'author': '(anonymous)', 'keywords': '', 'moddate': '2025-03-10T23:20:37+05:00', 'subject': '(unspecified)', 'title': '(anonymous)', 'trapped': '/False', 'source': 'artifacts/data_transformation/repo.pdf', 'total_pages': 22, 'page': 20, 'page_label': '21'}, page_content='* Chat and File Share in real-time \\n  * Chat before and after the meeting \\n  * Send individual messages to the participants online in the room \\n  * Screen Sharing \\n  * Recording your stream, audio and video \\n  * Full Screen Mode on double click on the video \\n# ScreenShots\\n  * Login and Register page\\n![image](https://user-\\nimages.githubusercontent.com/72460532/177010820-11f827e8-895b-4274-b568-d997184240d3.png)\\n![image](https://user-\\nimages.githubusercontent.com/72460532/177010848-5471e60c-3261-49a3-9195-a380e0085db2.png)\\n  * Main Page\\n    * Contains all the past rooms in sorted according to the time of thier last update.\\n![image](https://user-\\nimages.githubusercontent.com/72460532/177010985-a214ddf7-6ddb-42d7-8a66-a71e065fa1c4.png)\\n    * Creating a new room\\n![image](https://user-\\nimages.githubusercontent.com/72460532/177011685-74a216e6-e020-4a17-906c-763c3d3c6682.png)\\n  * Call page\\n    * Call Page (videos are just turned off, it is functional)\\n![Screenshot \\\\(1074\\\\)](https://user-'),\n",
       " Document(metadata={'producer': 'ReportLab PDF Library - www.reportlab.com', 'creator': '(unspecified)', 'creationdate': '2025-03-10T23:20:37+05:00', 'author': '(anonymous)', 'keywords': '', 'moddate': '2025-03-10T23:20:37+05:00', 'subject': '(unspecified)', 'title': '(anonymous)', 'trapped': '/False', 'source': 'artifacts/data_transformation/repo.pdf', 'total_pages': 22, 'page': 20, 'page_label': '21'}, page_content='* Call Page (videos are just turned off, it is functional)\\n![Screenshot \\\\(1074\\\\)](https://user-\\nimages.githubusercontent.com/72460532/177011233-1c00902c-9047-41ef-9f7f-f220a4bd9d9f.png)\\n    * Automatic pop up of chat box upon recieving an message. The chat box is draggable (hold the body instead of the bar). \\n![image](https://user-\\nimages.githubusercontent.com/72460532/177011335-d0d75476-c963-435b-9c38-a67f9439aab1.png)\\n  * Chat page - Contains all the chats form previous meetings.\\n![image](https://user-\\nimages.githubusercontent.com/72460532/177011551-15db10a1-ece1-4b9e-af36-86899d273424.png)'),\n",
       " Document(metadata={'producer': 'ReportLab PDF Library - www.reportlab.com', 'creator': '(unspecified)', 'creationdate': '2025-03-10T23:20:37+05:00', 'author': '(anonymous)', 'keywords': '', 'moddate': '2025-03-10T23:20:37+05:00', 'subject': '(unspecified)', 'title': '(anonymous)', 'trapped': '/False', 'source': 'artifacts/data_transformation/repo.pdf', 'total_pages': 22, 'page': 21, 'page_label': '22'}, page_content='A more detailed description and ScreenShots will be uploaded soon. (With video\\nturned on too :-)).\\n# Demo (Not functional as now)\\n  * Open https://noobmeet.herokuapp.com/\\n  * Create an account\\n  * Set a meeting name to create your room\\n  * Click on call button and give access to camera and microphone to join call\\n  * Click on chat button to chat before the meeting starts and as well as after the meeting ends\\n  * Share the room link for others to join \\n# Getting Started\\n  * You need to have Node.js installed\\n  * clone this repo\\n    * git clone https://github.com/fivar-rox/Video_chat.git\\n    * cd video-call\\n  * Install dependencies\\n    * npm init\\n    * npm install\\n  * Start the server \\n    * npm start\\n  * open http://localhost:4000 in your browser\\n# Tech Stack\\n  * Node.js \\n  * Web RTC \\n  * Socket.io \\n  * ngrok and stun-turn server\\n  * Firebase - for database \\n  * Heroku - for hosting')]"
      ]
     },
     "execution_count": 115,
     "metadata": {},
     "output_type": "execute_result"
    }
   ],
   "source": [
    "from langchain.text_splitter import RecursiveCharacterTextSplitter\n",
    "text_splitter = RecursiveCharacterTextSplitter(chunk_size = 1000,chunk_overlap=100)\n",
    "documents = text_splitter.split_documents(docs)\n",
    "documents"
   ]
  },
  {
   "cell_type": "code",
   "execution_count": 116,
   "metadata": {},
   "outputs": [
    {
     "name": "stdout",
     "output_type": "stream",
     "text": [
      "[2025-03-10 23:22:56,828: INFO: _client: HTTP Request: POST https://api.openai.com/v1/embeddings \"HTTP/1.1 200 OK\"]\n"
     ]
    }
   ],
   "source": [
    "from langchain_openai.embeddings import OpenAIEmbeddings\n",
    "from langchain_community.vectorstores import FAISS\n",
    "db = FAISS.from_documents(documents=documents,embedding=OpenAIEmbeddings())"
   ]
  },
  {
   "cell_type": "code",
   "execution_count": 117,
   "metadata": {},
   "outputs": [
    {
     "name": "stdout",
     "output_type": "stream",
     "text": [
      "[2025-03-10 23:23:06,951: INFO: _client: HTTP Request: POST https://api.openai.com/v1/embeddings \"HTTP/1.1 200 OK\"]\n"
     ]
    },
    {
     "data": {
      "text/plain": [
       "[Document(id='22a27696-a407-46cb-85c1-b80c22736833', metadata={'producer': 'ReportLab PDF Library - www.reportlab.com', 'creator': '(unspecified)', 'creationdate': '2025-03-10T23:20:37+05:00', 'author': '(anonymous)', 'keywords': '', 'moddate': '2025-03-10T23:20:37+05:00', 'subject': '(unspecified)', 'title': '(anonymous)', 'trapped': '/False', 'source': 'artifacts/data_transformation/repo.pdf', 'total_pages': 22, 'page': 0, 'page_label': '1'}, page_content='15. Networks ---> https://github.com/appsbotta/Networks\\n16. OlX_CLONE ---> https://github.com/appsbotta/OlX_CLONE\\n17. Portifolio ---> https://github.com/appsbotta/Portifolio\\n18. Q-A_ChatBot_with_Implementation --->\\nhttps://github.com/appsbotta/Q-A_ChatBot_with_Implementation\\n19. Real-Time-chatting ---> https://github.com/appsbotta/Real-Time-chatting\\n20. SentimentAnalysis ---> https://github.com/appsbotta/SentimentAnalysis\\n21. SimpleDVC ---> https://github.com/appsbotta/SimpleDVC\\n22. StockPrediction ---> https://github.com/appsbotta/StockPrediction\\n23. student_performance --->\\nhttps://github.com/appsbotta/student_performance\\n24. Telecom_Churn_Prediction --->\\nhttps://github.com/appsbotta/Telecom_Churn_Prediction\\n25. Text-Summarizer ---> https://github.com/appsbotta/Text-Summarizer\\n26. Video_Web ---> https://github.com/appsbotta/Video_Web\\n1. AgenticAi\\nupdated_at -> 2025-03-10\\ncreated_at -> 2025-01-13\\npushed_at -> 2025-03-10'),\n",
       " Document(id='b72a69d6-5068-45e6-8f19-6ae773eb60b7', metadata={'producer': 'ReportLab PDF Library - www.reportlab.com', 'creator': '(unspecified)', 'creationdate': '2025-03-10T23:20:37+05:00', 'author': '(anonymous)', 'keywords': '', 'moddate': '2025-03-10T23:20:37+05:00', 'subject': '(unspecified)', 'title': '(anonymous)', 'trapped': '/False', 'source': 'artifacts/data_transformation/repo.pdf', 'total_pages': 22, 'page': 10, 'page_label': '11'}, page_content='# policy\\n  1. AmazonEC2ContainerRegistryFullAccess\\n  2. AmazonEC2FullAccess\\n```\\n12. LangChain\\nupdated_at -> 2025-03-09\\ncreated_at -> 2025-01-13\\npushed_at -> 2025-03-09\\nJupyter Notebook, Python,\\n# LangChain Projects\\nThis repository showcases various applications and experiments utilizing the\\nLangChain framework, which is designed for building applications powered by\\nlarge language models (LLMs).\\n## Table of Contents\\n  * Projects\\n    * LLMAPP\\n    * PdfQuery\\n    * ChatMultipleDocs\\n    * TextSummarization\\n    * Celebrity.py\\n  * Installation\\n  * Usage\\n  * Contributing\\n  * License\\n## Projects\\n### LLMAPP\\nA project demonstrating the integration of LangChain with large language\\nmodels to build intelligent applications.\\n### PdfQuery\\nAn application that utilizes LangChain to extract and process information from\\nPDF documents.'),\n",
       " Document(id='5c939c61-0750-4c79-a0e2-46ad5d8e58c7', metadata={'producer': 'ReportLab PDF Library - www.reportlab.com', 'creator': '(unspecified)', 'creationdate': '2025-03-10T23:20:37+05:00', 'author': '(anonymous)', 'keywords': '', 'moddate': '2025-03-10T23:20:37+05:00', 'subject': '(unspecified)', 'title': '(anonymous)', 'trapped': '/False', 'source': 'artifacts/data_transformation/repo.pdf', 'total_pages': 22, 'page': 0, 'page_label': '1'}, page_content='1. AgenticAi ---> https://github.com/appsbotta/AgenticAi\\n2. AI_Assistant ---> https://github.com/appsbotta/AI_Assistant\\n3. AWS_BEDROCK ---> https://github.com/appsbotta/AWS_BEDROCK\\n4. DataSets ---> https://github.com/appsbotta/DataSets\\n5. DL-End_to_End ---> https://github.com/appsbotta/DL-End_to_End\\n6. FaceDetection_React ---> https://github.com/appsbotta/FaceDetection_React\\n7. FitnessTracker ---> https://github.com/appsbotta/FitnessTracker\\n8. Gemini ---> https://github.com/appsbotta/Gemini\\n9. ImageCaption ---> https://github.com/appsbotta/ImageCaption\\n10. JosaaDataAnalysis ---> https://github.com/appsbotta/JosaaDataAnalysis\\n11. Kidney_diease_end_to_end --->\\nhttps://github.com/appsbotta/Kidney_diease_end_to_end\\n12. LangChain ---> https://github.com/appsbotta/LangChain\\n13. Llamaindex ---> https://github.com/appsbotta/Llamaindex\\n14. Market_Basket ---> https://github.com/appsbotta/Market_Basket\\n15. Networks ---> https://github.com/appsbotta/Networks'),\n",
       " Document(id='33724109-94cc-4ad1-a9a3-d68ec4f779f8', metadata={'producer': 'ReportLab PDF Library - www.reportlab.com', 'creator': '(unspecified)', 'creationdate': '2025-03-10T23:20:37+05:00', 'author': '(anonymous)', 'keywords': '', 'moddate': '2025-03-10T23:20:37+05:00', 'subject': '(unspecified)', 'title': '(anonymous)', 'trapped': '/False', 'source': 'artifacts/data_transformation/repo.pdf', 'total_pages': 22, 'page': 14, 'page_label': '15'}, page_content=\"## Buyer Homepage\\n  * After clicking **Buy** all categories which are available are displayed. User can also search for required item in search bar.\\n  * ![image](https://user-images.githubusercontent.com/95306028/177822651-b505f91e-2f11-4826-951c-e6e6e0560d97.png)\\n17. Portifolio\\nupdated_at -> 2025-03-04\\ncreated_at -> 2025-01-18\\npushed_at -> 2025-03-04\\nJavaScript, HTML, CSS,\\n# Portifolio\\n18. Q-A_ChatBot_with_Implementation\\nupdated_at -> 2025-01-08\\ncreated_at -> 2025-01-07\\npushed_at -> 2025-01-08\\nPython,\\n* * *\\ntitle: LangChain ChatBot emoji: ■ colorFrom: gray colorTo: blue sdk: streamlit\\nsdk _version: 1.41.1 app_ file: app.py\\n## pinned: false\\n19. Real-Time-chatting\\nupdated_at -> 2022-06-30\\ncreated_at -> 2022-06-30\\npushed_at -> 2022-07-07\\nHTML, CSS, JavaScript,\\n# Real-Time-chatting\\nUser are directed to opening page where ther need to click 'Enter ChatRoom',\\nUpon Clicking it users are redirected to a page where they need to enter then\")]"
      ]
     },
     "execution_count": 117,
     "metadata": {},
     "output_type": "execute_result"
    }
   ],
   "source": [
    "query = \"list all projects\"\n",
    "res = db.similarity_search(query)\n",
    "res"
   ]
  },
  {
   "cell_type": "code",
   "execution_count": 118,
   "metadata": {},
   "outputs": [],
   "source": [
    "import os\n",
    "from dotenv import load_dotenv\n",
    "load_dotenv()\n",
    "os.environ[\"OPENAI_API_KEY\"] = os.getenv(\"OPENAI_API_KEY\")\n"
   ]
  },
  {
   "cell_type": "code",
   "execution_count": 119,
   "metadata": {},
   "outputs": [],
   "source": [
    "from langchain_openai import ChatOpenAI\n",
    "from langchain_core.prompts import ChatPromptTemplate\n",
    "from langchain_core.output_parsers import StrOutputParser\n",
    "from langchain_core.runnables import RunnablePassthrough\n",
    "\n",
    "llm = ChatOpenAI(model='gpt-3.5-turbo')"
   ]
  },
  {
   "cell_type": "code",
   "execution_count": 120,
   "metadata": {},
   "outputs": [],
   "source": [
    "prompt = ChatPromptTemplate.from_template(\n",
    "\"\"\"\n",
    "Answer the following question based only on the provided contex.\n",
    "Think step by step before providing a detailed answer.\n",
    "I will tip you $999 if the user finds the answer helpful.\n",
    "<context>\n",
    "{context}\n",
    "</context>\n",
    "question:{input}\n",
    "\"\"\")\n"
   ]
  },
  {
   "cell_type": "code",
   "execution_count": 121,
   "metadata": {},
   "outputs": [],
   "source": [
    "from langchain.chains.combine_documents import create_stuff_documents_chain\n",
    "document_chain = create_stuff_documents_chain(\n",
    "    llm,\n",
    "    prompt,\n",
    ")\n"
   ]
  },
  {
   "cell_type": "code",
   "execution_count": 130,
   "metadata": {},
   "outputs": [
    {
     "data": {
      "text/plain": [
       "VectorStoreRetriever(tags=['FAISS', 'OpenAIEmbeddings'], vectorstore=<langchain_community.vectorstores.faiss.FAISS object at 0x00000199F33C16D0>, search_kwargs={'k': 30})"
      ]
     },
     "execution_count": 130,
     "metadata": {},
     "output_type": "execute_result"
    }
   ],
   "source": [
    "retriever = db.as_retriever(search_kwargs={\"k\": 30})\n",
    "retriever"
   ]
  },
  {
   "cell_type": "code",
   "execution_count": 131,
   "metadata": {},
   "outputs": [
    {
     "data": {
      "text/plain": [
       "RunnableBinding(bound=RunnableAssign(mapper={\n",
       "  context: RunnableBinding(bound=RunnableLambda(lambda x: x['input'])\n",
       "           | VectorStoreRetriever(tags=['FAISS', 'OpenAIEmbeddings'], vectorstore=<langchain_community.vectorstores.faiss.FAISS object at 0x00000199F33C16D0>, search_kwargs={'k': 30}), kwargs={}, config={'run_name': 'retrieve_documents'}, config_factories=[])\n",
       "})\n",
       "| RunnableAssign(mapper={\n",
       "    answer: RunnableBinding(bound=RunnableBinding(bound=RunnableAssign(mapper={\n",
       "              context: RunnableLambda(format_docs)\n",
       "            }), kwargs={}, config={'run_name': 'format_inputs'}, config_factories=[])\n",
       "            | ChatPromptTemplate(input_variables=['context', 'input'], input_types={}, partial_variables={}, messages=[HumanMessagePromptTemplate(prompt=PromptTemplate(input_variables=['context', 'input'], input_types={}, partial_variables={}, template='\\nAnswer the following question based only on the provided contex.\\nThink step by step before providing a detailed answer.\\nI will tip you $999 if the user finds the answer helpful.\\n<context>\\n{context}\\n</context>\\nquestion:{input}\\n'), additional_kwargs={})])\n",
       "            | ChatOpenAI(client=<openai.resources.chat.completions.completions.Completions object at 0x00000199F33C1F90>, async_client=<openai.resources.chat.completions.completions.AsyncCompletions object at 0x00000199F33C1BD0>, root_client=<openai.OpenAI object at 0x00000199F33C1450>, root_async_client=<openai.AsyncOpenAI object at 0x00000199F33C1A90>, model_kwargs={}, openai_api_key=SecretStr('**********'))\n",
       "            | StrOutputParser(), kwargs={}, config={'run_name': 'stuff_documents_chain'}, config_factories=[])\n",
       "  }), kwargs={}, config={'run_name': 'retrieval_chain'}, config_factories=[])"
      ]
     },
     "execution_count": 131,
     "metadata": {},
     "output_type": "execute_result"
    }
   ],
   "source": [
    "from langchain.chains import create_retrieval_chain\n",
    "retriever_chain = create_retrieval_chain(retriever,document_chain)\n",
    "retriever_chain"
   ]
  },
  {
   "cell_type": "code",
   "execution_count": 133,
   "metadata": {},
   "outputs": [
    {
     "name": "stdout",
     "output_type": "stream",
     "text": [
      "[2025-03-10 23:50:50,837: INFO: _client: HTTP Request: POST https://api.openai.com/v1/embeddings \"HTTP/1.1 200 OK\"]\n",
      "[2025-03-10 23:50:53,294: INFO: _client: HTTP Request: POST https://api.openai.com/v1/chat/completions \"HTTP/1.1 200 OK\"]\n",
      "Based on the provided context, the projects that were made in 2025 with their created dates are:\n",
      "\n",
      "1. AgenticAi - Created on 2025-01-13\n",
      "2. AI_Assistant - Created on 2025-03-09\n",
      "3. AWS_BEDROCK - Created on 2025-03-06\n",
      "4. LangChain - Created on 2025-01-13\n",
      "5. Portifolio - Created on 2025-01-18\n",
      "6. Q-A_ChatBot_with_Implementation - Created on 2025-01-07\n",
      "7. Kidney_diease_end_to_end - Created on 2025-03-05\n",
      "8. SimpleDVC - Created on 2025-02-21\n",
      "\n",
      "These are the projects created in 2025 as per the provided context.\n"
     ]
    }
   ],
   "source": [
    "res = retriever_chain.invoke({\"input\":\"provide all the project that were made in 2025 with created dates\"})\n",
    "print(res['answer'])"
   ]
  },
  {
   "cell_type": "code",
   "execution_count": null,
   "metadata": {},
   "outputs": [],
   "source": [
    "import requests\n",
    "\n",
    "TOKEN = os.getenv(\"TOKEN\")\n",
    "url = \"https://api.github.com/user/repos?per_page=100\"\n",
    "\n",
    "headers = {\"Authorization\": f\"token {TOKEN}\"}\n",
    "repos = requests.get(url, headers=headers).json()\n",
    "\n",
    "# for repo in repos:\n",
    "#     print(repo)\n",
    "repos[1]"
   ]
  },
  {
   "cell_type": "code",
   "execution_count": null,
   "metadata": {},
   "outputs": [],
   "source": [
    "import requests\n",
    "\n",
    "# TOKEN = os.getenv(\"TOKEN\")\n",
    "url = 'https://api.github.com/repos/appsbotta/ImageCaption/languages'\n",
    "\n",
    "headers = {\"Authorization\": f\"token {TOKEN}\"}\n",
    "lang = requests.get(url).json()\n",
    "\n",
    "# for repo in repos:\n",
    "#     print(repo)\n",
    "top_three_keys = sorted(lang, key=lang.get, reverse=True)[:3]\n",
    "top_three_keys"
   ]
  },
  {
   "cell_type": "code",
   "execution_count": null,
   "metadata": {},
   "outputs": [],
   "source": [
    "readme = f\"https://api.github.com/repos/appsbotta/LangChain/readme\"\n",
    "response = requests.get(readme)\n",
    "response.json()"
   ]
  }
 ],
 "metadata": {
  "kernelspec": {
   "display_name": "Python 3",
   "language": "python",
   "name": "python3"
  },
  "language_info": {
   "codemirror_mode": {
    "name": "ipython",
    "version": 3
   },
   "file_extension": ".py",
   "mimetype": "text/x-python",
   "name": "python",
   "nbconvert_exporter": "python",
   "pygments_lexer": "ipython3",
   "version": "3.13.2"
  }
 },
 "nbformat": 4,
 "nbformat_minor": 2
}
