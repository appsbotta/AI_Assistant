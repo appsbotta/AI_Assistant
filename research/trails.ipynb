{
 "cells": [
  {
   "cell_type": "code",
   "execution_count": 25,
   "metadata": {},
   "outputs": [],
   "source": [
    "import os"
   ]
  },
  {
   "cell_type": "code",
   "execution_count": 26,
   "metadata": {},
   "outputs": [
    {
     "data": {
      "text/plain": [
       "'c:\\\\Users\\\\Appsb\\\\Desktop\\\\AI_Assistant\\\\research'"
      ]
     },
     "execution_count": 26,
     "metadata": {},
     "output_type": "execute_result"
    }
   ],
   "source": [
    "%pwd"
   ]
  },
  {
   "cell_type": "code",
   "execution_count": 27,
   "metadata": {},
   "outputs": [],
   "source": [
    "os.chdir('../')"
   ]
  },
  {
   "cell_type": "code",
   "execution_count": 28,
   "metadata": {},
   "outputs": [
    {
     "data": {
      "text/plain": [
       "'c:\\\\Users\\\\Appsb\\\\Desktop\\\\AI_Assistant'"
      ]
     },
     "execution_count": 28,
     "metadata": {},
     "output_type": "execute_result"
    }
   ],
   "source": [
    "%pwd"
   ]
  },
  {
   "cell_type": "markdown",
   "metadata": {},
   "source": [
    "# Data Ingestion"
   ]
  },
  {
   "cell_type": "code",
   "execution_count": 29,
   "metadata": {},
   "outputs": [],
   "source": [
    "from dataclasses import dataclass\n",
    "from pathlib import Path\n",
    "\n",
    "@dataclass(frozen=True)\n",
    "class DataIngestionConfig:\n",
    "    root_dir: Path\n",
    "    github_url: str\n",
    "    save_dir: Path"
   ]
  },
  {
   "cell_type": "code",
   "execution_count": null,
   "metadata": {},
   "outputs": [],
   "source": []
  },
  {
   "cell_type": "code",
   "execution_count": 30,
   "metadata": {},
   "outputs": [],
   "source": [
    "from bot.constants import *\n",
    "from bot.utils.common import read_yaml,create_directories"
   ]
  },
  {
   "cell_type": "code",
   "execution_count": 31,
   "metadata": {},
   "outputs": [
    {
     "data": {
      "text/plain": [
       "pathlib._local.WindowsPath"
      ]
     },
     "execution_count": 31,
     "metadata": {},
     "output_type": "execute_result"
    }
   ],
   "source": [
    "type(CONFIG_PATH)"
   ]
  },
  {
   "cell_type": "code",
   "execution_count": 33,
   "metadata": {},
   "outputs": [],
   "source": [
    "class ConfigurationManager:\n",
    "    def __init__(\n",
    "            self,\n",
    "            config_path = CONFIG_PATH,\n",
    "            params_path = PARAMS_PATH\n",
    "        ):\n",
    "        self.config = read_yaml(config_path)\n",
    "        self.param = read_yaml(params_path)\n",
    "\n",
    "        create_directories([self.config.artifacts_root])\n",
    "    \n",
    "    def get_data_ingestion_config(self)->DataIngestionConfig:\n",
    "        config = self.config.data_ingestion\n",
    "\n",
    "        create_directories([config.root_dir])\n",
    "\n",
    "        data_ingestion_config = DataIngestionConfig(\n",
    "            root_dir=config.root_dir,\n",
    "            github_url=config.github_url,\n",
    "            save_dir=config.save_dir\n",
    "        )\n",
    "\n",
    "        return data_ingestion_config"
   ]
  },
  {
   "cell_type": "code",
   "execution_count": 34,
   "metadata": {},
   "outputs": [],
   "source": [
    "import os\n",
    "import requests\n",
    "from bot import logger\n",
    "from dotenv import load_dotenv\n",
    "load_dotenv()\n",
    "import base64"
   ]
  },
  {
   "cell_type": "code",
   "execution_count": null,
   "metadata": {},
   "outputs": [],
   "source": [
    "class DataIngestion:\n",
    "    def __init__(self,config:DataIngestionConfig):\n",
    "        self.config = config\n",
    "    \n",
    "    def get_repos(self):\n",
    "        url = self.config.github_url\n",
    "        headers = {\"Authorization\": f\"token {os.getenv(\"TOKEN\")}\"}\n",
    "        repos = requests.get(url, headers=headers).json()\n",
    "        save_dir = self.config.save_dir\n",
    "        with open(os.path.join(save_dir,'repo.txt'),'w') as f:\n",
    "            logger.info(f\"Starting writing data from git hub repos\")\n",
    "            for repo in repos:\n",
    "                OWNER = repo['owner']['login']\n",
    "                REPO = repo['name']\n",
    "                readme = f\"https://api.github.com/repos/{OWNER}/{REPO}/readme\"\n",
    "                headers = {\"Authorization\": f\"token {os.getenv(\"TOKEN\")}\"}\n",
    "                response = requests.get(readme, headers=headers)\n",
    "\n",
    "                readme_content = \"No Readme FIle\"\n",
    "                if response.status_code == 200:\n",
    "                    data = response.json()\n",
    "                    readme_content = base64.b64decode(data[\"content\"]).decode(\"utf-8\")\n",
    "                \n",
    "                f.write(str(repo[\"name\"]) + \" -> \" + str(repo[\"html_url\"] +\"\\n\"))\n",
    "                f.write(\"Description \\n\")\n",
    "                f.write(readme_content)\n",
    "                f.write(str(\"\\n\"))\n",
    "                f.write(str(\"\\n\"))\n",
    "                f.write(\"<=================================================================================================>\")\n",
    "                f.write(str(\"\\n\"))\n",
    "                f.write(str(\"\\n\"))\n",
    "            logger.info(f\"Completed writing data from git hub repos\")"
   ]
  },
  {
   "cell_type": "code",
   "execution_count": 54,
   "metadata": {},
   "outputs": [
    {
     "name": "stdout",
     "output_type": "stream",
     "text": [
      "[2025-03-10 08:10:01,570: INFO: common: yaml file: config\\config.yaml loaded successfully]\n",
      "[2025-03-10 08:10:01,581: INFO: common: yaml file: params.yaml loaded successfully]\n",
      "[2025-03-10 08:10:01,587: INFO: common: created directory at: artifacts]\n",
      "[2025-03-10 08:10:01,590: INFO: common: created directory at: artifacts/data_ingestion]\n"
     ]
    },
    {
     "name": "stdout",
     "output_type": "stream",
     "text": [
      "[2025-03-10 08:10:02,072: INFO: 1434716802: Starting writing data from git hub repos]\n",
      "[2025-03-10 08:10:15,028: INFO: 1434716802: Completed writing data from git hub repos]\n"
     ]
    }
   ],
   "source": [
    "try:\n",
    "    config = ConfigurationManager()\n",
    "    data_ingestion_config = config.get_data_ingestion_config()\n",
    "    data_ingestion = DataIngestion(config=data_ingestion_config)\n",
    "    data_ingestion.get_repos()\n",
    "except Exception as e:\n",
    "    raise e"
   ]
  },
  {
   "cell_type": "code",
   "execution_count": null,
   "metadata": {},
   "outputs": [],
   "source": [
    "import requests\n",
    "import os\n",
    "TOKEN = os.getenv(\"TOKEN\")\n",
    "url = \"https://api.github.com/user/repos?per_page=100\"\n",
    "\n",
    "headers = {\"Authorization\": f\"token {TOKEN}\"}\n",
    "repos = requests.get(url, headers=headers).json()\n",
    "\n",
    "repos[0]"
   ]
  },
  {
   "cell_type": "code",
   "execution_count": null,
   "metadata": {},
   "outputs": [
    {
     "name": "stdout",
     "output_type": "stream",
     "text": [
      "No Readme FIle\n"
     ]
    }
   ],
   "source": [
    "import requests\n",
    "import base64\n",
    "\n",
    "TOKEN = os.getenv(\"TOKEN\")\n",
    "OWNER = repos[0]['owner']['login']\n",
    "REPO = repos[0]['name']#\"DL-End_to_End\"\n",
    "\n",
    "readme = f\"https://api.github.com/repos/{OWNER}/{REPO}/readme\"\n",
    "headers = {\"Authorization\": f\"token {TOKEN}\"}\n",
    "\n",
    "response = requests.get(readme, headers=headers)\n",
    "\n",
    "readme_content = \"No Readme FIle\"\n",
    "if response.status_code == 200:\n",
    "    data = response.json()\n",
    "    readme_content = base64.b64decode(data[\"content\"]).decode()\n",
    "print(readme_content)  # Print or save to a file"
   ]
  },
  {
   "cell_type": "code",
   "execution_count": null,
   "metadata": {},
   "outputs": [],
   "source": []
  }
 ],
 "metadata": {
  "kernelspec": {
   "display_name": "Python 3",
   "language": "python",
   "name": "python3"
  },
  "language_info": {
   "codemirror_mode": {
    "name": "ipython",
    "version": 3
   },
   "file_extension": ".py",
   "mimetype": "text/x-python",
   "name": "python",
   "nbconvert_exporter": "python",
   "pygments_lexer": "ipython3",
   "version": "3.13.2"
  }
 },
 "nbformat": 4,
 "nbformat_minor": 2
}
